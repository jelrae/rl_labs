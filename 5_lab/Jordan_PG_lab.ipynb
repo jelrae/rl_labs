{
 "cells": [
  {
   "cell_type": "markdown",
   "metadata": {},
   "source": [
    "# Reinforcement Learning - Policy Gradient\n",
    "If you want to test/submit your solution **restart the kernel, run all cells and submit the pg_autograde.py file into codegrade.**"
   ]
  },
  {
   "cell_type": "code",
   "execution_count": 1,
   "metadata": {},
   "outputs": [],
   "source": [
    "# This cell imports %%execwritefile command (executes cell and writes it into file). \n",
    "from custommagics import CustomMagics\n",
    "get_ipython().register_magics(CustomMagics)"
   ]
  },
  {
   "cell_type": "code",
   "execution_count": 2,
   "metadata": {},
   "outputs": [
    {
     "name": "stdout",
     "output_type": "stream",
     "text": [
      "Overwriting pg_autograde.py\n"
     ]
    }
   ],
   "source": [
    "%%execwritefile pg_autograde.py\n",
    "import numpy as np\n",
    "import torch\n",
    "import torch.nn as nn\n",
    "import torch.nn.functional as F\n",
    "from torch import optim\n",
    "from tqdm import tqdm as _tqdm\n",
    "\n",
    "def tqdm(*args, **kwargs):\n",
    "    return _tqdm(*args, **kwargs, mininterval=1)  # Safety, do not overflow buffer"
   ]
  },
  {
   "cell_type": "code",
   "execution_count": 3,
   "metadata": {
    "nbgrader": {
     "grade": false,
     "grade_id": "cell-fc69f22067705372",
     "locked": true,
     "schema_version": 1,
     "solution": false
    }
   },
   "outputs": [],
   "source": [
    "%matplotlib inline\n",
    "\n",
    "import matplotlib.pyplot as plt\n",
    "import sys\n",
    "\n",
    "import gym\n",
    "import time\n",
    "\n",
    "assert sys.version_info[:3] >= (3, 6, 0), \"Make sure you have Python 3.6 installed!\""
   ]
  },
  {
   "cell_type": "markdown",
   "metadata": {
    "nbgrader": {
     "grade": false,
     "grade_id": "cell-6607b79e73a101a9",
     "locked": true,
     "schema_version": 1,
     "solution": false
    }
   },
   "source": [
    "---\n",
    "\n",
    "## 3. Policy Gradient"
   ]
  },
  {
   "cell_type": "markdown",
   "metadata": {
    "nbgrader": {
     "grade": false,
     "grade_id": "cell-76a10fe31897025f",
     "locked": true,
     "schema_version": 1,
     "solution": false
    }
   },
   "source": [
    "### 3.1 Policy Network"
   ]
  },
  {
   "cell_type": "markdown",
   "metadata": {
    "nbgrader": {
     "grade": false,
     "grade_id": "cell-34f0712f792bbcca",
     "locked": true,
     "schema_version": 1,
     "solution": false
    }
   },
   "source": [
    "In order to implement policy gradient, we will first implement a class with a policy network. Although in general this does not have to be the case, we will use an architecture very similar to the Q-network that we used (two layers with ReLU activation for the hidden layer). Since we have discrete actions, our model will output one value per action, where each value represents the (normalized!) probability of selecting that action. *Use the softmax activation function.*"
   ]
  },
  {
   "cell_type": "code",
   "execution_count": 4,
   "metadata": {
    "nbgrader": {
     "grade": false,
     "grade_id": "cell-6a31440f9477f963",
     "locked": false,
     "schema_version": 1,
     "solution": true
    }
   },
   "outputs": [
    {
     "name": "stdout",
     "output_type": "stream",
     "text": [
      "Appending to pg_autograde.py\n"
     ]
    }
   ],
   "source": [
    "%%execwritefile -a pg_autograde.py\n",
    "\n",
    "class NNPolicy(nn.Module):\n",
    "    \n",
    "    def __init__(self, num_hidden=128):\n",
    "        nn.Module.__init__(self)\n",
    "        self.l1 = nn.Linear(4, num_hidden)\n",
    "        self.l2 = nn.Linear(num_hidden, 2)\n",
    "\n",
    "    def forward(self, x):\n",
    "        \"\"\"\n",
    "        Performs a forward pass through the network.\n",
    "        \n",
    "        Args:\n",
    "            x: input tensor (first dimension is a batch dimension)\n",
    "            \n",
    "        Return:\n",
    "            Probabilities of performing all actions in given input states x. Shape: batch_size x action_space_size\n",
    "        \"\"\"\n",
    "        # YOUR CODE HERE\n",
    "        return nn.functional.softmax(self.l2(nn.functional.relu(self.l1(x))), dim = 0)\n",
    "        \n",
    "    def get_probs(self, obs, actions):\n",
    "        \"\"\"\n",
    "        This function takes a tensor of states and a tensor of actions and returns a tensor that contains \n",
    "        a probability of perfoming corresponding action in all states (one for every state action pair). \n",
    "\n",
    "        Args:\n",
    "            obs: a tensor of states. Shape: batch_size x obs_dim\n",
    "            actions: a tensor of actions. Shape: batch_size x 1\n",
    "\n",
    "        Returns:\n",
    "            A torch tensor filled with probabilities. Shape: batch_size x 1.\n",
    "        \"\"\"\n",
    "        # YOUR CODE HERE\n",
    "#         with  torch.no_grad():\n",
    "        probs = self.forward(obs)\n",
    "        action_probs = probs.gather(0, actions).float()\n",
    "        \n",
    "        return action_probs\n",
    "    \n",
    "    def sample_action(self, obs):\n",
    "        \"\"\"\n",
    "        This method takes a state as input and returns an action sampled from this policy.  \n",
    "\n",
    "        Args:\n",
    "            obs: state as a tensor. Shape: 1 x obs_dim or obs_dim\n",
    "\n",
    "        Returns:\n",
    "            An action (int).\n",
    "        \"\"\"\n",
    "        # YOUR CODE HERE\n",
    "#         obs = torch.tensor(obs)\n",
    "#         with torch.no_grad():\n",
    "        probs = self.forward(obs)\n",
    "    \n",
    "        action = torch.multinomial(probs, 1).item()\n",
    "#         print(\"We sampling\", action)\n",
    "        return action\n",
    "        \n",
    "        "
   ]
  },
  {
   "cell_type": "code",
   "execution_count": 5,
   "metadata": {
    "nbgrader": {
     "grade": true,
     "grade_id": "cell-9d280fe6520edc91",
     "locked": true,
     "points": 1,
     "schema_version": 1,
     "solution": false
    }
   },
   "outputs": [
    {
     "name": "stdout",
     "output_type": "stream",
     "text": [
      "tensor([[0],\n",
      "        [1],\n",
      "        [1],\n",
      "        [0],\n",
      "        [0],\n",
      "        [1],\n",
      "        [0],\n",
      "        [1],\n",
      "        [0],\n",
      "        [0]])\n",
      "tensor([[0.1026, 0.1066],\n",
      "        [0.0986, 0.0992],\n",
      "        [0.0977, 0.1021],\n",
      "        [0.0983, 0.0999],\n",
      "        [0.0983, 0.1027],\n",
      "        [0.0977, 0.0957],\n",
      "        [0.1034, 0.0995],\n",
      "        [0.1028, 0.0964],\n",
      "        [0.1030, 0.0980],\n",
      "        [0.0977, 0.0999]], grad_fn=<SoftmaxBackward>)\n",
      "tensor([[0.1026],\n",
      "        [0.0986],\n",
      "        [0.0986],\n",
      "        [0.1026],\n",
      "        [0.1026],\n",
      "        [0.0986],\n",
      "        [0.1026],\n",
      "        [0.0986],\n",
      "        [0.1026],\n",
      "        [0.1026]], grad_fn=<GatherBackward>)\n"
     ]
    }
   ],
   "source": [
    "# Let's instantiate and test if it works\n",
    "num_hidden = 128\n",
    "torch.manual_seed(1234)\n",
    "policy = NNPolicy(num_hidden)\n",
    "\n",
    "states = torch.rand(10, 4)\n",
    "actions = torch.randint(low=0, high=2, size=(10,1))\n",
    "print(actions)\n",
    "\n",
    "# Does the outcome make sense?\n",
    "forward_probs = policy.forward(states)\n",
    "print(forward_probs)\n",
    "assert forward_probs.shape == (10,2), \"Output of forward has incorrect shape.\"\n",
    "sampled_action = policy.sample_action(states[0])\n",
    "assert sampled_action == 0 or sampled_action == 1, \"Output of sample action is not 0 or 1\"\n",
    "\n",
    "action_probs = policy.get_probs(states, actions)\n",
    "print(action_probs)\n",
    "assert action_probs.shape == (10,1), \"Output of get_probs has incorrect shape.\""
   ]
  },
  {
   "cell_type": "markdown",
   "metadata": {},
   "source": [
    "### 3.2 Monte Carlo REINFORCE\n",
    "\n",
    "Now we will implement the *Monte Carlo* policy gradient algorithm. Remember that this means that we will estimate returns for states by sample episodes. Compared to DQN, this means that we do *not* perform an update step at every environment step, but only at the end of each episode. This means that we should generate an episode of data, compute the REINFORCE loss (which requires computing the returns) and then perform a gradient step.\n",
    "\n",
    "* You can use `torch.multinomial` to sample from a categorical distribution.\n",
    "* The REINFORCE loss is defined as $- \\sum_t \\log \\pi_\\theta(a_t|s_t) G_t$, which means that you should compute the (discounted) return $G_t$ for all $t$. Make sure that you do this in **linear time**, otherwise your algorithm will be very slow! Note the - (minus) since you want to maximize return while you want to minimize the loss.\n",
    "\n",
    "To help you, we wrote down signatures of a few helper functions. Start by implementing a sampling routine that samples a single episode (similarly to the one in Monte Carlo lab)."
   ]
  },
  {
   "cell_type": "code",
   "execution_count": 6,
   "metadata": {},
   "outputs": [
    {
     "name": "stdout",
     "output_type": "stream",
     "text": [
      "Appending to pg_autograde.py\n"
     ]
    }
   ],
   "source": [
    "%%execwritefile -a pg_autograde.py\n",
    "\n",
    "def sample_episode(env, policy):\n",
    "    \"\"\"\n",
    "    A sampling routine. Given environment and a policy samples one episode and returns states, actions, rewards\n",
    "    and dones from environment's step function as tensors.\n",
    "\n",
    "    Args:\n",
    "        env: OpenAI gym environment.\n",
    "        policy: A policy which allows us to sample actions with its sample_action method.\n",
    "\n",
    "    Returns:\n",
    "        Tuple of tensors (states, actions, rewards, dones). All tensors should have same first dimension and \n",
    "        should have dim=2. This means that vectors of length N (states, rewards, actions) should be Nx1.\n",
    "        Hint: Do not include the state after termination in states.\n",
    "    \"\"\"\n",
    "    states = []\n",
    "    actions = []\n",
    "    rewards = []\n",
    "    dones = []\n",
    "    \n",
    "\n",
    "    state = env.reset()\n",
    "    while True:\n",
    "        \n",
    "        action = policy.sample_action(torch.tensor(state, dtype=torch.double).float())\n",
    "        s_next, r, done, _ = env.step(action)\n",
    "        \n",
    "        states.append(state)\n",
    "        actions.append(action)\n",
    "        rewards.append(r)\n",
    "        dones.append(done)\n",
    "        state = s_next\n",
    "        \n",
    "        if dones[-1] == True:\n",
    "            break\n",
    "            \n",
    "    return states, actions, rewards, dones"
   ]
  },
  {
   "cell_type": "code",
   "execution_count": 7,
   "metadata": {
    "scrolled": false
   },
   "outputs": [
    {
     "name": "stderr",
     "output_type": "stream",
     "text": [
      "/home/jordan/miniconda3/envs/rl2020/lib/python3.7/site-packages/gym/envs/registration.py:14: PkgResourcesDeprecationWarning: Parameters to load are deprecated.  Call .resolve and .require separately.\n",
      "  result = entry_point.load(False)\n"
     ]
    }
   ],
   "source": [
    "# Let's sample some episodes\n",
    "env = gym.envs.make(\"CartPole-v1\")\n",
    "num_hidden = 128\n",
    "torch.manual_seed(1234)\n",
    "policy = NNPolicy(num_hidden)\n",
    "for episode in range(3):\n",
    "    trajectory_data = sample_episode(env, policy)"
   ]
  },
  {
   "cell_type": "markdown",
   "metadata": {},
   "source": [
    "Now implement loss computation and training loop of the algorithm."
   ]
  },
  {
   "cell_type": "code",
   "execution_count": 8,
   "metadata": {
    "nbgrader": {
     "grade": true,
     "grade_id": "cell-3f6e32c4931392bf",
     "locked": false,
     "points": 5,
     "schema_version": 1,
     "solution": true
    }
   },
   "outputs": [
    {
     "name": "stdout",
     "output_type": "stream",
     "text": [
      "Appending to pg_autograde.py\n"
     ]
    }
   ],
   "source": [
    "%%execwritefile -a pg_autograde.py\n",
    "\n",
    "def compute_reinforce_loss(policy, episode, discount_factor):\n",
    "    \"\"\"\n",
    "    Computes reinforce loss for given episode.\n",
    "\n",
    "    Args:\n",
    "        policy: A policy which allows us to get probabilities of actions in states with its get_probs method.\n",
    "\n",
    "    Returns:\n",
    "        loss: reinforce loss\n",
    "    \"\"\"\n",
    "    # Compute the reinforce loss\n",
    "    # Make sure that your function runs in LINEAR TIME\n",
    "    # Note that the rewards/returns should be maximized \n",
    "    # while the loss should be minimized so you need a - somewhere\n",
    "\n",
    "    G_t = torch.tensor([episode[2][i]**(len(episode[0])-1 - i) for i in np.arange(len(episode[0])-1, -1, -1)]).unsqueeze(0)\n",
    "    p = policy.get_probs(torch.tensor(episode[0]).float(),torch.tensor(episode[1]).unsqueeze(1)).double()\n",
    "    loss = -1*torch.log(torch.matmul(G_t,p))\n",
    "    \n",
    "    \n",
    "#   for i in np.arange(len(episode[0])-1, -1, -1):\n",
    "\n",
    "#         p = policy.get_probs(torch.tensor(episode[0][i]).float(),torch.tensor(episode[1][i]))\n",
    "#         G_t = episode[2][i]**(len(episode[0])-1 - i)\n",
    "#         loss -= np.log(p*G_t)\n",
    "    \n",
    "    return loss\n",
    "\n",
    "# YOUR CODE HERE\n",
    "# raise NotImplementedError\n",
    "\n",
    "def run_episodes_policy_gradient(policy, env, num_episodes, discount_factor, learn_rate, \n",
    "                                 sampling_function=sample_episode):\n",
    "    optimizer = optim.Adam(policy.parameters(), learn_rate)\n",
    "    \n",
    "    episode_durations = []\n",
    "    for i in range(num_episodes):\n",
    "        \n",
    "        # YOUR CODE HERE\n",
    "        episode = sample_episode(env, policy)\n",
    "        \n",
    "        loss = compute_reinforce_loss(policy, episode, discount_factor)\n",
    "        \n",
    "        optimizer.zero_grad()\n",
    "        loss.backward()\n",
    "        optimizer.step()\n",
    "                           \n",
    "        if i % 10 == 0:\n",
    "            print(\"{2} Episode {0} finished after {1} steps\"\n",
    "                  .format(i, len(episode[0]), '\\033[92m' if len(episode[0]) >= 195 else '\\033[99m'))\n",
    "        episode_durations.append(len(episode[0]))\n",
    "        \n",
    "    return episode_durations"
   ]
  },
  {
   "cell_type": "code",
   "execution_count": 9,
   "metadata": {},
   "outputs": [],
   "source": [
    "# Smoothing function for nicer plots\n",
    "def smooth(x, N):\n",
    "    cumsum = np.cumsum(np.insert(x, 0, 0)) \n",
    "    return (cumsum[N:] - cumsum[:-N]) / float(N)"
   ]
  },
  {
   "cell_type": "code",
   "execution_count": 10,
   "metadata": {
    "scrolled": false
   },
   "outputs": [
    {
     "name": "stdout",
     "output_type": "stream",
     "text": [
      "\u001b[99m Episode 0 finished after 24 steps\n",
      "\u001b[99m Episode 10 finished after 24 steps\n",
      "\u001b[99m Episode 20 finished after 11 steps\n",
      "\u001b[99m Episode 30 finished after 10 steps\n",
      "\u001b[99m Episode 40 finished after 17 steps\n",
      "\u001b[99m Episode 50 finished after 12 steps\n",
      "\u001b[99m Episode 60 finished after 15 steps\n",
      "\u001b[99m Episode 70 finished after 8 steps\n",
      "\u001b[99m Episode 80 finished after 13 steps\n",
      "\u001b[99m Episode 90 finished after 9 steps\n",
      "\u001b[99m Episode 100 finished after 17 steps\n",
      "\u001b[99m Episode 110 finished after 12 steps\n",
      "\u001b[99m Episode 120 finished after 10 steps\n",
      "\u001b[99m Episode 130 finished after 24 steps\n",
      "\u001b[99m Episode 140 finished after 9 steps\n",
      "\u001b[99m Episode 150 finished after 14 steps\n",
      "\u001b[99m Episode 160 finished after 16 steps\n",
      "\u001b[99m Episode 170 finished after 13 steps\n",
      "\u001b[99m Episode 180 finished after 23 steps\n",
      "\u001b[99m Episode 190 finished after 14 steps\n",
      "\u001b[99m Episode 200 finished after 26 steps\n",
      "\u001b[99m Episode 210 finished after 11 steps\n",
      "\u001b[99m Episode 220 finished after 9 steps\n",
      "\u001b[99m Episode 230 finished after 22 steps\n",
      "\u001b[99m Episode 240 finished after 10 steps\n",
      "\u001b[99m Episode 250 finished after 10 steps\n",
      "\u001b[99m Episode 260 finished after 17 steps\n",
      "\u001b[99m Episode 270 finished after 12 steps\n",
      "\u001b[99m Episode 280 finished after 11 steps\n",
      "\u001b[99m Episode 290 finished after 28 steps\n",
      "\u001b[99m Episode 300 finished after 12 steps\n",
      "\u001b[99m Episode 310 finished after 18 steps\n",
      "\u001b[99m Episode 320 finished after 9 steps\n",
      "\u001b[99m Episode 330 finished after 21 steps\n",
      "\u001b[99m Episode 340 finished after 14 steps\n",
      "\u001b[99m Episode 350 finished after 19 steps\n",
      "\u001b[99m Episode 360 finished after 11 steps\n",
      "\u001b[99m Episode 370 finished after 10 steps\n",
      "\u001b[99m Episode 380 finished after 8 steps\n",
      "\u001b[99m Episode 390 finished after 20 steps\n",
      "\u001b[99m Episode 400 finished after 11 steps\n",
      "\u001b[99m Episode 410 finished after 9 steps\n",
      "\u001b[99m Episode 420 finished after 10 steps\n",
      "\u001b[99m Episode 430 finished after 12 steps\n",
      "\u001b[99m Episode 440 finished after 17 steps\n",
      "\u001b[99m Episode 450 finished after 36 steps\n",
      "\u001b[99m Episode 460 finished after 41 steps\n",
      "\u001b[99m Episode 470 finished after 15 steps\n",
      "\u001b[99m Episode 480 finished after 13 steps\n",
      "\u001b[99m Episode 490 finished after 11 steps\n"
     ]
    },
    {
     "data": {
      "text/plain": [
       "<matplotlib.legend.Legend at 0x7fc65760dc18>"
      ]
     },
     "execution_count": 10,
     "metadata": {},
     "output_type": "execute_result"
    },
    {
     "data": {
      "image/png": "[encoded data removed]",
      "text/plain": [
       "<Figure size 432x288 with 1 Axes>"
      ]
     },
     "metadata": {
      "needs_background": "light"
     },
     "output_type": "display_data"
    }
   ],
   "source": [
    "# Feel free to play around with the parameters!\n",
    "num_episodes = 500\n",
    "discount_factor = 0.99\n",
    "learn_rate = 0.001\n",
    "seed = 42\n",
    "env = gym.envs.make(\"CartPole-v1\")\n",
    "torch.manual_seed(seed)\n",
    "env.seed(seed)\n",
    "policy = NNPolicy(num_hidden)\n",
    "\n",
    "episode_durations_policy_gradient = run_episodes_policy_gradient(\n",
    "    policy, env, num_episodes, discount_factor, learn_rate)\n",
    "\n",
    "plt.plot(smooth(episode_durations_policy_gradient, 10))\n",
    "plt.title('Episode durations per episode')\n",
    "plt.legend(['Policy gradient'])"
   ]
  },
  {
   "cell_type": "markdown",
   "metadata": {},
   "source": [
    "If you want to test/submit your solution **restart the kernel, run all cells and submit the pg_autograde.py file into codegrade.**"
   ]
  },
  {
   "cell_type": "code",
   "execution_count": null,
   "metadata": {},
   "outputs": [],
   "source": []
  },
  {
   "cell_type": "code",
   "execution_count": null,
   "metadata": {},
   "outputs": [],
   "source": []
  }
 ],
 "metadata": {
  "celltoolbar": "Create Assignment",
  "kernelspec": {
   "display_name": "Python 3",
   "language": "python",
   "name": "python3"
  },
  "language_info": {
   "codemirror_mode": {
    "name": "ipython",
    "version": 3
   },
   "file_extension": ".py",
   "mimetype": "text/x-python",
   "name": "python",
   "nbconvert_exporter": "python",
   "pygments_lexer": "ipython3",
   "version": "3.7.3"
  }
 },
 "nbformat": 4,
 "nbformat_minor": 2
}
