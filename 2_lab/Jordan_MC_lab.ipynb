{
 "cells": [
  {
   "cell_type": "markdown",
   "metadata": {},
   "source": [
    "# Reinforcement Learning - Monte Carlo\n",
    "If you want to test/submit your solution **restart the kernel, run all cells and submit the mc_autograde.py file into codegrade.**"
   ]
  },
  {
   "cell_type": "code",
   "execution_count": 1,
   "metadata": {},
   "outputs": [],
   "source": [
    "# This cell imports %%execwritefile command (executes cell and writes it into file). \n",
    "# All cells that start with %%execwritefile should be in mc_autograde.py file after running all cells.\n",
    "from custommagics import CustomMagics\n",
    "get_ipython().register_magics(CustomMagics)"
   ]
  },
  {
   "cell_type": "code",
   "execution_count": 2,
   "metadata": {},
   "outputs": [
    {
     "name": "stdout",
     "output_type": "stream",
     "text": [
      "Overwriting mc_autograde.py\n"
     ]
    }
   ],
   "source": [
    "%%execwritefile mc_autograde.py\n",
    "import numpy as np\n",
    "from collections import defaultdict\n",
    "from tqdm import tqdm as _tqdm\n",
    "\n",
    "def tqdm(*args, **kwargs):\n",
    "    return _tqdm(*args, **kwargs, mininterval=1)  # Safety, do not overflow buffer"
   ]
  },
  {
   "cell_type": "code",
   "execution_count": 3,
   "metadata": {},
   "outputs": [],
   "source": [
    "import matplotlib.pyplot as plt\n",
    "import sys\n",
    "\n",
    "\n",
    "%matplotlib inline\n",
    "\n",
    "assert sys.version_info[:3] >= (3, 6, 0), \"Make sure you have Python 3.6 installed!\""
   ]
  },
  {
   "cell_type": "markdown",
   "metadata": {
    "nbgrader": {
     "grade": false,
     "grade_id": "cell-7ab207a9f93cf4d3",
     "locked": true,
     "schema_version": 1,
     "solution": false
    }
   },
   "source": [
    "## 1. Monte Carlo Prediction"
   ]
  },
  {
   "cell_type": "markdown",
   "metadata": {
    "nbgrader": {
     "grade": false,
     "grade_id": "cell-5f0c1d608436b67b",
     "locked": true,
     "schema_version": 1,
     "solution": false
    }
   },
   "source": [
    "For the Monte Carlo Prediction we will look at the Blackjack game (Example 5.1 from the book), for which the `BlackjackEnv` is implemented in `blackjack.py`. Note that compared to the gridworld, the state is no longer a single integer, which is why we use a dictionary to represent the value function instead of a numpy array. By using `defaultdict`, each state gets a default value of 0."
   ]
  },
  {
   "cell_type": "code",
   "execution_count": 4,
   "metadata": {
    "nbgrader": {
     "grade": false,
     "grade_id": "cell-a342b69fcfdea5b2",
     "locked": true,
     "schema_version": 1,
     "solution": false
    }
   },
   "outputs": [],
   "source": [
    "from blackjack import BlackjackEnv\n",
    "env = BlackjackEnv()"
   ]
  },
  {
   "cell_type": "markdown",
   "metadata": {},
   "source": [
    "For the Monte Carlo algorithm, we no longer have transition probabilities and we need to *interact* with the environment. This means that we start an episode by using `env.reset` and send the environment actions via `env.step` to observe the reward and next observation (state)."
   ]
  },
  {
   "cell_type": "code",
   "execution_count": 5,
   "metadata": {
    "nbgrader": {
     "grade": false,
     "grade_id": "cell-85356add2643980e",
     "locked": true,
     "schema_version": 1,
     "solution": false
    }
   },
   "outputs": [],
   "source": [
    "# So let's have a look at what we can do in general with an environment...\n",
    "import gym\n",
    "?gym.Env"
   ]
  },
  {
   "cell_type": "code",
   "execution_count": 6,
   "metadata": {
    "nbgrader": {
     "grade": false,
     "grade_id": "cell-251b7b17c5d08a24",
     "locked": true,
     "schema_version": 1,
     "solution": false
    }
   },
   "outputs": [],
   "source": [
    "# We can also look at the documentation/implementation of a method\n",
    "?env.step"
   ]
  },
  {
   "cell_type": "code",
   "execution_count": 7,
   "metadata": {
    "nbgrader": {
     "grade": false,
     "grade_id": "cell-6decb2ab83c5bcec",
     "locked": true,
     "schema_version": 1,
     "solution": false
    }
   },
   "outputs": [],
   "source": [
    "??BlackjackEnv"
   ]
  },
  {
   "cell_type": "markdown",
   "metadata": {
    "nbgrader": {
     "grade": false,
     "grade_id": "cell-ae161126d3cb1b7b",
     "locked": true,
     "schema_version": 1,
     "solution": false
    }
   },
   "source": [
    "A very simple policy for Blackjack is to *stick* if we have 20 or 21 points and *hit* otherwise. We want to know how good this policy is. This policy is *deterministic* and therefore a function that maps an observation to a single action. Technically, we can implement this as a dictionary , a function or a class with a function, where we use the last option. Moreover, it is often useful (as you will see later) to implement a function that returns  the probability $\\pi(a|s)$ for the state action pair (the probability that this policy would perform certain action in given state). We group these two functions in a policy class. To get started, let's implement this simple policy for BlackJack."
   ]
  },
  {
   "cell_type": "code",
   "execution_count": 38,
   "metadata": {
    "nbgrader": {
     "grade": false,
     "grade_id": "cell-9fdcb503df9cdb08",
     "locked": false,
     "schema_version": 1,
     "solution": true
    }
   },
   "outputs": [
    {
     "name": "stdout",
     "output_type": "stream",
     "text": [
      "Appending to mc_autograde.py\n"
     ]
    }
   ],
   "source": [
    "%%execwritefile -a mc_autograde.py\n",
    "\n",
    "class SimpleBlackjackPolicy(object):\n",
    "    \"\"\"\n",
    "    A simple BlackJack policy that sticks with 20 or 21 points and hits otherwise.\n",
    "    \"\"\"\n",
    "    def get_probs(self, states, actions):\n",
    "        \"\"\"\n",
    "        This method takes a list of states and a list of actions and returns a numpy array that contains a probability\n",
    "        of perfoming action in given state for every corresponding state action pair. \n",
    "\n",
    "        Args:\n",
    "            states: a list of states.\n",
    "            actions: a list of actions.\n",
    "\n",
    "        Returns:\n",
    "            Numpy array filled with probabilities (same length as states and actions)\n",
    "        \"\"\"\n",
    "        probs = []\n",
    "        for state, action in zip(states, actions):\n",
    "            policyaction = self.sample_action(state)\n",
    "            probs.append(float(policyaction == action))\n",
    "        \n",
    "        return np.array(probs)\n",
    "    \n",
    "    def sample_action(self, state):\n",
    "        \"\"\"\n",
    "        This method takes a state as input and returns an action sampled from this policy.  \n",
    "\n",
    "        Args:\n",
    "            state: current state\n",
    "\n",
    "        Returns:\n",
    "            An action (int).\n",
    "        \"\"\"\n",
    "        print(state)\n",
    "        if state[0] == 20 or state[0] == 21:\n",
    "            return 0\n",
    "        return 1"
   ]
  },
  {
   "cell_type": "code",
   "execution_count": 39,
   "metadata": {
    "nbgrader": {
     "grade": true,
     "grade_id": "cell-99f02e2d9b338a5b",
     "locked": true,
     "points": 1,
     "schema_version": 1,
     "solution": false
    }
   },
   "outputs": [
    {
     "name": "stdout",
     "output_type": "stream",
     "text": [
      "(16, 8, False)\n",
      "(16, 8, False)\n",
      "(16, 8, False)\n",
      "(16, 8, False)\n",
      "(16, 8, False)\n",
      "State: (16, 8, False)\n",
      "Sampled Action: 1\n",
      "Probabilities [stick, hit]: [0. 1.]\n"
     ]
    }
   ],
   "source": [
    "# Let's check if it makes sense\n",
    "env = BlackjackEnv()\n",
    "s = env.reset()\n",
    "policy = SimpleBlackjackPolicy()\n",
    "print(\"State: {}\\nSampled Action: {}\\nProbabilities [stick, hit]: {}\".format(s, policy.sample_action(s), policy.get_probs([s,s],[0,1])))"
   ]
  },
  {
   "cell_type": "markdown",
   "metadata": {},
   "source": [
    "Since there are multiple algorithms which require data from single episode (or multiple episodes) it is often useful to write a routine that will sample a single episode. This will save us some time later. Implement a *sample_episode* function which uses environment and policy to sample a single episode."
   ]
  },
  {
   "cell_type": "code",
   "execution_count": 10,
   "metadata": {},
   "outputs": [
    {
     "name": "stdout",
     "output_type": "stream",
     "text": [
      "Appending to mc_autograde.py\n"
     ]
    }
   ],
   "source": [
    "%%execwritefile -a mc_autograde.py\n",
    "\n",
    "def sample_episode(env, policy):\n",
    "    \"\"\"\n",
    "    A sampling routine. Given environment and a policy samples one episode and returns states, actions, rewards\n",
    "    and dones from environment's step function and policy's sample_action function as lists.\n",
    "\n",
    "    Args:\n",
    "        env: OpenAI gym environment.\n",
    "        policy: A policy which allows us to sample actions with its sample_action method.\n",
    "\n",
    "    Returns:\n",
    "        Tuple of lists (states, actions, rewards, dones). All lists should have same length. \n",
    "        Hint: Do not include the state after the termination in the list of states.\n",
    "    \"\"\"\n",
    "    states = []\n",
    "    actions = []\n",
    "    rewards = []\n",
    "    dones = []\n",
    "    \n",
    "    states.append(env.reset())\n",
    "    t = 0\n",
    "    while True:\n",
    "        a = policy.sample_action(states[t])\n",
    "        sp, r, done, _ = env.step(a)\n",
    "        \n",
    "        actions.append(a)\n",
    "        rewards.append(r)\n",
    "        dones.append(done)\n",
    "        if done:\n",
    "            break\n",
    "        \n",
    "        states.append(sp)\n",
    "        t += 1\n",
    "    #TODO Should this be a tuple?  like (states, actions, rewards, dones)\n",
    "    return states, actions, rewards, dones"
   ]
  },
  {
   "cell_type": "code",
   "execution_count": 11,
   "metadata": {},
   "outputs": [
    {
     "name": "stdout",
     "output_type": "stream",
     "text": [
      "Episode 0:\n",
      "States [(19, 4, False)]\n",
      "Actions [1]\n",
      "Rewards [-1]\n",
      "Dones [True]\n",
      "\n",
      "Episode 1:\n",
      "States [(18, 2, False)]\n",
      "Actions [1]\n",
      "Rewards [-1]\n",
      "Dones [True]\n",
      "\n",
      "Episode 2:\n",
      "States [(15, 8, True), (16, 8, True), (18, 8, True), (18, 8, False)]\n",
      "Actions [1, 1, 1, 1]\n",
      "Rewards [0, 0, 0, -1]\n",
      "Dones [False, False, False, True]\n",
      "\n"
     ]
    }
   ],
   "source": [
    "# Let's sample some episodes\n",
    "env = BlackjackEnv()\n",
    "policy = SimpleBlackjackPolicy()\n",
    "for episode in range(3):\n",
    "    trajectory_data = sample_episode(env, policy)\n",
    "    print(\"Episode {}:\\nStates {}\\nActions {}\\nRewards {}\\nDones {}\\n\".format(episode,*trajectory_data))"
   ]
  },
  {
   "cell_type": "markdown",
   "metadata": {
    "nbgrader": {
     "grade": false,
     "grade_id": "cell-0184f4c719afb98c",
     "locked": true,
     "schema_version": 1,
     "solution": false
    }
   },
   "source": [
    "Now implement the MC prediction algorithm (either first visit or every visit). Hint: you can use `for i in tqdm(range(num_episodes))` to show a progress bar. Use the sampling function from above to sample data from a single episode."
   ]
  },
  {
   "cell_type": "code",
   "execution_count": 12,
   "metadata": {},
   "outputs": [
    {
     "name": "stdout",
     "output_type": "stream",
     "text": [
      "Appending to mc_autograde.py\n"
     ]
    }
   ],
   "source": [
    "%%execwritefile -a mc_autograde.py\n",
    "\n",
    "def mc_prediction(env, policy, num_episodes, discount_factor=1.0, sampling_function=sample_episode):\n",
    "    \"\"\"\n",
    "    Monte Carlo prediction algorithm. Calculates the value function\n",
    "    for a given policy using sampling.\n",
    "    \n",
    "    Args:\n",
    "        env: OpenAI gym environment.\n",
    "        policy: A policy which allows us to sample actions with its sample_action method.\n",
    "        num_episodes: Number of episodes to sample.\n",
    "        discount_factor: Gamma discount factor.\n",
    "        sampling_function: Function that generates data from one episode.\n",
    "    \n",
    "    Returns:\n",
    "        A dictionary that maps from state -> value.\n",
    "        The state is a tuple and the value is a float.\n",
    "    \"\"\"\n",
    "\n",
    "    # Keeps track of current V and count of returns for each state\n",
    "    # to calculate an update.\n",
    "    V = defaultdict(float)\n",
    "    \n",
    "    returns = defaultdict(list)\n",
    "    \n",
    "    returns_count = defaultdict(float)\n",
    "    \n",
    "    for i in tqdm(range(num_episodes)):\n",
    "        S = []\n",
    "        states, actions, rewards, dones = sampling_function(env, policy)\n",
    "        \n",
    "        G = 0\n",
    "        for idx in range(len(states) - 1, -1, -1):\n",
    "            G = discount_factor * G + rewards[idx]\n",
    "            \n",
    "            s = states[idx]\n",
    "            if s not in S:\n",
    "                S.append(s)\n",
    "                returns[s].append(G)\n",
    "                V[s] = sum(returns[s])/len(returns[s])\n",
    "                \n",
    "    return V"
   ]
  },
  {
   "cell_type": "code",
   "execution_count": 13,
   "metadata": {},
   "outputs": [
    {
     "name": "stderr",
     "output_type": "stream",
     "text": [
      "100%|██████████| 10000/10000 [00:00<00:00, 16215.38it/s]"
     ]
    },
    {
     "name": "stdout",
     "output_type": "stream",
     "text": [
      "defaultdict(<class 'float'>, {(21, 5, True): 0.8936170212765957, (19, 9, False): -0.680327868852459, (18, 9, False): -0.79, (15, 9, False): -0.6288659793814433, (17, 4, False): -0.6627906976744186, (12, 9, False): -0.5233644859813084, (17, 1, False): -0.6850393700787402, (14, 1, False): -0.6082474226804123, (18, 6, False): -0.6484375, (12, 10, False): -0.6375661375661376, (20, 10, False): 0.4493783303730018, (17, 1, True): -0.75, (21, 10, True): 0.863013698630137, (19, 10, False): -0.7721238938053098, (19, 7, False): -0.7075471698113207, (16, 7, False): -0.5327102803738317, (14, 7, False): -0.7403846153846154, (19, 3, False): -0.6851851851851852, (18, 3, False): -0.7033898305084746, (21, 10, False): 0.898360655737705, (21, 3, False): 0.9012345679012346, (19, 8, False): -0.8446601941747572, (19, 8, True): -0.4, (18, 8, False): -0.7526881720430108, (13, 6, False): -0.4888888888888889, (12, 6, False): -0.5894736842105263, (15, 5, True): 0.07142857142857142, (13, 5, True): -0.7272727272727273, (19, 5, False): -0.7589285714285714, (15, 5, False): -0.6226415094339622, (16, 10, False): -0.6367713004484304, (14, 10, False): -0.6503667481662592, (17, 9, False): -0.75, (16, 2, False): -0.7115384615384616, (12, 3, False): -0.5172413793103449, (16, 6, False): -0.5891472868217055, (18, 7, False): -0.7433628318584071, (15, 10, False): -0.6963350785340314, (20, 6, False): 0.6848484848484848, (12, 5, False): -0.5287356321839081, (14, 9, False): -0.5918367346938775, (14, 3, False): -0.6116504854368932, (17, 3, False): -0.6153846153846154, (21, 9, False): 0.8970588235294118, (16, 9, False): -0.8557692307692307, (16, 9, True): 0.0, (17, 10, False): -0.7240566037735849, (14, 5, False): -0.6021505376344086, (13, 5, False): -0.5098039215686274, (21, 9, True): 0.9090909090909091, (13, 10, False): -0.625, (16, 8, False): -0.7083333333333334, (21, 4, True): 0.9069767441860465, (19, 4, False): -0.7441860465116279, (12, 4, False): -0.6774193548387096, (13, 4, False): -0.46987951807228917, (12, 2, False): -0.5779816513761468, (18, 10, False): -0.7601809954751131, (20, 8, False): 0.7619047619047619, (17, 6, False): -0.6346153846153846, (21, 1, False): 0.7142857142857143, (20, 7, False): 0.7808219178082192, (17, 7, False): -0.7129629629629629, (14, 4, False): -0.5176470588235295, (21, 2, False): 0.7681159420289855, (17, 2, False): -0.6696428571428571, (14, 6, False): -0.6698113207547169, (21, 6, False): 0.9340659340659341, (13, 2, False): -0.7227722772277227, (21, 5, False): 0.8648648648648649, (19, 6, True): -0.5263157894736842, (20, 4, False): 0.6556291390728477, (15, 7, False): -0.6703296703296703, (12, 8, False): -0.6853932584269663, (16, 5, False): -0.7127659574468085, (15, 3, False): -0.5666666666666667, (20, 3, False): 0.625, (18, 9, True): -0.11764705882352941, (18, 1, False): -0.7545454545454545, (16, 4, False): -0.65625, (18, 10, True): -0.36363636363636365, (20, 1, False): 0.028901734104046242, (13, 1, False): -0.6666666666666666, (13, 8, False): -0.5816326530612245, (20, 2, False): 0.5859872611464968, (21, 7, False): 0.90625, (18, 2, False): -0.8317757009345794, (20, 9, False): 0.7925925925925926, (14, 9, True): -0.14285714285714285, (16, 1, False): -0.7731958762886598, (16, 10, True): -0.46153846153846156, (18, 5, False): -0.7479674796747967, (12, 10, True): -0.4, (15, 1, False): -0.84375, (16, 3, False): -0.7079646017699115, (19, 10, True): -0.3188405797101449, (17, 10, True): -0.44680851063829785, (19, 1, False): -0.8, (21, 7, True): 0.8723404255319149, (14, 2, False): -0.6176470588235294, (20, 3, True): 0.6818181818181818, (21, 6, True): 0.926829268292683, (12, 1, False): -0.51, (15, 4, False): -0.6565656565656566, (21, 3, True): 0.9459459459459459, (16, 3, True): -0.5333333333333333, (19, 3, True): -0.25, (15, 8, False): -0.7, (21, 4, False): 0.9354838709677419, (17, 4, True): 0.0, (16, 4, True): -0.2, (20, 10, True): 0.38461538461538464, (15, 6, False): -0.6136363636363636, (16, 2, True): -0.2857142857142857, (20, 5, False): 0.8120300751879699, (19, 2, False): -0.7476635514018691, (19, 2, True): -0.3125, (19, 6, False): -0.6694915254237288, (15, 10, True): -0.17142857142857143, (21, 1, True): 0.673469387755102, (16, 1, True): -0.125, (12, 7, False): -0.4742268041237113, (17, 5, False): -0.7078651685393258, (13, 7, False): -0.625, (21, 8, False): 0.9493670886075949, (15, 2, False): -0.7647058823529411, (13, 3, False): -0.6236559139784946, (21, 8, True): 0.9166666666666666, (19, 5, True): -0.11764705882352941, (16, 5, True): -0.5294117647058824, (19, 9, True): -0.3333333333333333, (15, 9, True): -0.6666666666666666, (12, 9, True): -0.2, (18, 4, False): -0.7522935779816514, (13, 2, True): -0.15384615384615385, (14, 8, False): -0.6981132075471698, (20, 1, True): 0.07692307692307693, (15, 4, True): 0.0, (12, 4, True): 0.3333333333333333, (18, 5, True): 0.0, (17, 8, False): -0.6347826086956522, (14, 4, True): -0.25, (21, 2, True): 0.86, (12, 2, True): 0.0, (14, 2, True): -0.16666666666666666, (13, 9, False): -0.6129032258064516, (13, 9, True): -0.25, (13, 10, True): -0.41025641025641024, (15, 3, True): -0.21428571428571427, (20, 5, True): 0.8125, (18, 3, True): -0.3333333333333333, (12, 3, True): -0.16666666666666666, (20, 8, True): 1.0, (12, 8, True): 0.3333333333333333, (20, 2, True): 0.43478260869565216, (17, 8, True): -0.5, (14, 8, True): -0.06666666666666667, (16, 6, True): -0.5, (19, 4, True): -0.6842105263157895, (18, 4, True): -0.2222222222222222, (18, 2, True): -0.4117647058823529, (20, 7, True): 0.8125, (14, 10, True): -0.4318181818181818, (13, 4, True): 0.0, (20, 9, True): 0.84, (14, 5, True): -0.3333333333333333, (13, 3, True): -0.5555555555555556, (15, 7, True): -0.75, (17, 2, True): -0.6470588235294118, (17, 7, True): -0.3, (15, 8, True): -0.23076923076923078, (13, 6, True): 0.09090909090909091, (12, 5, True): -0.3333333333333333, (14, 6, True): -0.18181818181818182, (18, 7, True): -0.5, (20, 6, True): 0.8181818181818182, (17, 6, True): -0.18181818181818182, (18, 1, True): -0.5454545454545454, (17, 5, True): 0.0, (12, 1, True): -1.0, (19, 1, True): -0.5, (16, 7, True): -0.3333333333333333, (16, 8, True): -0.6363636363636364, (13, 7, True): -0.4, (18, 8, True): -0.6666666666666666, (19, 7, True): -0.6363636363636364, (14, 3, True): -0.3333333333333333, (15, 6, True): -0.6363636363636364, (15, 2, True): -0.2727272727272727, (14, 1, True): -0.3333333333333333, (20, 4, True): 0.85, (18, 6, True): -0.8, (15, 1, True): -0.5, (17, 9, True): -0.6, (14, 7, True): -0.5, (17, 3, True): -0.6666666666666666, (13, 8, True): -0.2, (13, 1, True): -0.75, (12, 7, True): -1.0, (12, 6, True): -1.0})\n"
     ]
    },
    {
     "name": "stderr",
     "output_type": "stream",
     "text": [
      "\n"
     ]
    }
   ],
   "source": [
    "V_10k = mc_prediction(env, SimpleBlackjackPolicy(), num_episodes=10000)\n",
    "print(V_10k)"
   ]
  },
  {
   "cell_type": "markdown",
   "metadata": {
    "nbgrader": {
     "grade": false,
     "grade_id": "cell-9d32f907f180c088",
     "locked": true,
     "schema_version": 1,
     "solution": false
    }
   },
   "source": [
    "Now make *4 plots* like Figure 5.1 in the book. You can either make 3D plots or heatmaps. Make sure that your results look similar to the results in the book. Give your plots appropriate titles, axis labels, etc."
   ]
  },
  {
   "cell_type": "code",
   "execution_count": 14,
   "metadata": {
    "nbgrader": {
     "grade": false,
     "grade_id": "cell-cbaf4d6a0e4c00fa",
     "locked": true,
     "schema_version": 1,
     "solution": false
    }
   },
   "outputs": [
    {
     "name": "stderr",
     "output_type": "stream",
     "text": [
      "100%|██████████| 10000/10000 [00:00<00:00, 16585.78it/s]\n",
      "100%|██████████| 500000/500000 [02:31<00:00, 3294.49it/s]"
     ]
    },
    {
     "name": "stdout",
     "output_type": "stream",
     "text": [
      "CPU times: user 2min 31s, sys: 181 ms, total: 2min 31s\n",
      "Wall time: 2min 32s\n"
     ]
    },
    {
     "name": "stderr",
     "output_type": "stream",
     "text": [
      "\n"
     ]
    }
   ],
   "source": [
    "%%time\n",
    "# Let's run your code one time\n",
    "V_10k = mc_prediction(env, SimpleBlackjackPolicy(), num_episodes=10000)\n",
    "V_500k = mc_prediction(env, SimpleBlackjackPolicy(), num_episodes=500000)"
   ]
  },
  {
   "cell_type": "code",
   "execution_count": 15,
   "metadata": {
    "nbgrader": {
     "grade": true,
     "grade_id": "cell-ba046443478aa517",
     "locked": false,
     "points": 2,
     "schema_version": 1,
     "solution": true
    }
   },
   "outputs": [
    {
     "data": {
      "image/png": "[encoded data removed]",
      "text/plain": [
       "<Figure size 432x288 with 4 Axes>"
      ]
     },
     "metadata": {
      "needs_background": "light"
     },
     "output_type": "display_data"
    }
   ],
   "source": [
    "from mpl_toolkits.mplot3d import Axes3D\n",
    "fig = plt.figure()\n",
    "\n",
    "noAce = []\n",
    "withAce = []\n",
    "for key, value in V_10k.items():\n",
    "    if key[2]:\n",
    "        # Take the initial player and dealer scores + calculated win chance (0 = draw, -1 = loss etc)\n",
    "        withAce.append([key[0], key[1], value])\n",
    "    else:\n",
    "        noAce.append([key[0], key[1], value])\n",
    "\n",
    "noAce = np.array(noAce)\n",
    "withAce = np.array(withAce)\n",
    "\n",
    "\n",
    "ax = fig.add_subplot(221, projection='3d')\n",
    "ax.set_title(\"No usable ace, 10k\")\n",
    "ax.plot_trisurf(noAce[:, 1], noAce[:, 0], noAce[:, 2])\n",
    "ax.set_zlim(-1, 1)\n",
    "ax.set_ylim(10, 21)\n",
    "        \n",
    "ax = fig.add_subplot(222, projection='3d')\n",
    "ax.set_title(\"Usable ace, 10k\")\n",
    "ax.plot_trisurf(withAce[:, 1], withAce[:, 0], withAce[:, 2])  \n",
    "ax.set_zlim(-1, 1)\n",
    "ax.set_ylim(10, 21)\n",
    "\n",
    "noAce = []\n",
    "withAce = []\n",
    "for key, value in V_500k.items():\n",
    "    if key[2]:\n",
    "        # Take the initial player and dealer scores + calculated win chance (0 = draw, -1 = loss etc)\n",
    "        withAce.append([key[0], key[1], value])\n",
    "    else:\n",
    "        noAce.append([key[0], key[1], value])\n",
    "\n",
    "noAce = np.array(noAce)\n",
    "withAce = np.array(withAce)\n",
    "\n",
    "\n",
    "ax = fig.add_subplot(223, projection='3d')\n",
    "ax.plot_trisurf(noAce[:, 1], noAce[:, 0], noAce[:, 2])\n",
    "ax.set_title(\"No usable ace, 500k\")\n",
    "ax.set_zlim(-1, 1)\n",
    "ax.set_ylim(10, 21)\n",
    "        \n",
    "ax = fig.add_subplot(224, projection='3d')\n",
    "ax.plot_trisurf(withAce[:, 1], withAce[:, 0], withAce[:, 2])    \n",
    "ax.set_title(\"Usable ace, 500k\")\n",
    "ax.set_zlim(-1, 1)\n",
    "ax.set_ylim(10, 21)\n",
    "\n",
    "\n",
    "plt.show()\n"
   ]
  },
  {
   "cell_type": "markdown",
   "metadata": {},
   "source": [
    "## 2. Off-policy Monte Carlo prediction\n",
    "In real world, it is often beneficial to learn from the experience of others in addition to your own. For example, you can probably infer that running off the cliff with a car is a bad idea if you consider what \"return\" people who have tried it received.\n",
    "\n",
    "Similarly, we can benefit from the experience of other agents in reinforcement learning. In this exercise we will use off-policy monte carlo to estimate the value function of our target policy using the experience from a different behavior policy. Our target policy will be the simple policy defined above (stick if we have *20* or *21* points) and we will use a random policy that randomly chooses to stick or hit (both with 50% probability) as a behavior policy. As a first step, implement a random BlackJack policy."
   ]
  },
  {
   "cell_type": "code",
   "execution_count": 16,
   "metadata": {},
   "outputs": [
    {
     "name": "stdout",
     "output_type": "stream",
     "text": [
      "Appending to mc_autograde.py\n"
     ]
    }
   ],
   "source": [
    "%%execwritefile -a mc_autograde.py\n",
    "\n",
    "class RandomBlackjackPolicy(object):\n",
    "    \"\"\"\n",
    "    A random BlackJack policy.\n",
    "    \"\"\"\n",
    "    def get_probs(self, states, actions):\n",
    "        \"\"\"\n",
    "        This method takes a list of states and a list of actions and returns a numpy array that contains \n",
    "        a probability of perfoming action in given state for every corresponding state action pair. \n",
    "\n",
    "        Args:\n",
    "            states: a list of states.\n",
    "            actions: a list of actions.\n",
    "\n",
    "        Returns:\n",
    "            Numpy array filled with probabilities (same length as states and actions)\n",
    "        \"\"\"\n",
    "        \n",
    "        # I think this might be a bit of a cheat, we might want to make this a bit better.  I.E. I should\n",
    "        \n",
    "        return np.zeros(len(states)) + 0.5\n",
    "    \n",
    "    def sample_action(self, state):\n",
    "        \"\"\"\n",
    "        This method takes a state as input and returns an action sampled from this policy.  \n",
    "\n",
    "        Args:\n",
    "            state: current state\n",
    "\n",
    "        Returns:\n",
    "            An action (int).\n",
    "        \"\"\"\n",
    "        return np.random.choice(a=[0, 1])\n"
   ]
  },
  {
   "cell_type": "code",
   "execution_count": 17,
   "metadata": {},
   "outputs": [
    {
     "name": "stdout",
     "output_type": "stream",
     "text": [
      "State: (20, 4, False)\n",
      "Sampled Action: 1\n",
      "Probabilities [stick, hit]: [0.5 0.5]\n"
     ]
    }
   ],
   "source": [
    "# Let's check if it makes sense\n",
    "env = BlackjackEnv()\n",
    "s = env.reset()\n",
    "policy = RandomBlackjackPolicy()\n",
    "print(\"State: {}\\nSampled Action: {}\\nProbabilities [stick, hit]: {}\".format(s, policy.sample_action(s), policy.get_probs([s,s],[0,1])))"
   ]
  },
  {
   "cell_type": "markdown",
   "metadata": {},
   "source": [
    "Now implement the MC prediction algorithm with ordinary importance sampling. Use the sampling function from above to sample data from a single episode.\n",
    "\n",
    "Hint: Get probs functions may be handy. You can use `for i in tqdm(range(num_episodes))` to show a progress bar."
   ]
  },
  {
   "cell_type": "code",
   "execution_count": 41,
   "metadata": {},
   "outputs": [
    {
     "name": "stdout",
     "output_type": "stream",
     "text": [
      "Appending to mc_autograde.py\n"
     ]
    }
   ],
   "source": [
    "%%execwritefile -a mc_autograde.py\n",
    "\n",
    "def mc_importance_sampling(env, behavior_policy, target_policy, num_episodes, discount_factor=1.0,\n",
    "                           sampling_function=sample_episode):\n",
    "    \"\"\"\n",
    "    Monte Carlo prediction algorithm. Calculates the value function\n",
    "    for a given target policy using behavior policy and ordinary importance sampling.\n",
    "    \n",
    "    Args:\n",
    "        env: OpenAI gym environment.\n",
    "        behavior_policy: A policy used to collect the data.\n",
    "        target_policy: A policy which value function we want to estimate.\n",
    "        num_episodes: Number of episodes to sample.\n",
    "        discount_factor: Gamma discount factor.\n",
    "        sampling_function: Function that generates data from one episode.\n",
    "    \n",
    "    Returns:\n",
    "        A dictionary that maps from state -> value.\n",
    "        The state is a tuple and the value is a float.\n",
    "    \"\"\"\n",
    "    \n",
    "    # Keeps track of current V and count of returns for each state\n",
    "    # to calculate an update.\n",
    "    V = defaultdict(float)\n",
    "    returns_count = defaultdict(float)\n",
    "    \n",
    "    pi_1 = target_policy.get_probs(np.arange(0,22),np.zeros(21)+1)\n",
    "    pi_0 = target_policy.get_probs(np.arange(0,22),np.zeros(21))\n",
    "    pi = np.array([pi_0,pi_1])\n",
    "    print(pi.shape)\n",
    "    b = behavior_policy.get_probs(range(0,22))\n",
    "    C = 0\n",
    "    \n",
    "    for i in tqdm(range(num_episodes)):\n",
    "        S = []\n",
    "        states, actions, rewards, dones = sampling_function(env, behavior_policy)\n",
    "        G = 0\n",
    "        W = 1\n",
    "        \n",
    "        for s,a,r in zip(states, actions, rewards)[::-1]:\n",
    "            \n",
    "            G += discount_factor * G + r\n",
    "            C += W\n",
    "            if s not in S:\n",
    "                S.append(s)\n",
    "                returns[s].append(G)\n",
    "            \n",
    "            pi = target_policy.get_probs(s,a)\n",
    "            b = behavior_policy.get_probs(s)\n",
    "            \n",
    "            print(\"doesnt matter\")\n",
    "        \n",
    "# returns = defaultdict(list)\n",
    "#     returns_count = defaultdict(float)\n",
    "    \n",
    "#     for i in tqdm(range(num_episodes)):\n",
    "#         S = []\n",
    "#         states, actions, rewards, dones = sampling_function(env, policy)\n",
    "        \n",
    "#         G = 0\n",
    "#         for idx in range(len(states) - 1, -1, -1):\n",
    "#             G = discount_factor * G + rewards[idx]\n",
    "            \n",
    "#             s = states[idx]\n",
    "#             if s not in S:\n",
    "#                 S.append(s)\n",
    "#                 returns[s].append(G)\n",
    "#                 V[s] = sum(returns[s])/len(returns[s])        \n",
    "    return V"
   ]
  },
  {
   "cell_type": "code",
   "execution_count": 35,
   "metadata": {},
   "outputs": [
    {
     "ename": "IndexError",
     "evalue": "invalid index to scalar variable.",
     "output_type": "error",
     "traceback": [
      "\u001b[0;31m---------------------------------------------------------------------------\u001b[0m",
      "\u001b[0;31mIndexError\u001b[0m                                Traceback (most recent call last)",
      "\u001b[0;32m<ipython-input-35-fe20e70c32a9>\u001b[0m in \u001b[0;36m<module>\u001b[0;34m\u001b[0m\n\u001b[0;32m----> 1\u001b[0;31m \u001b[0mV_10k\u001b[0m \u001b[0;34m=\u001b[0m \u001b[0mmc_importance_sampling\u001b[0m\u001b[0;34m(\u001b[0m\u001b[0menv\u001b[0m\u001b[0;34m,\u001b[0m \u001b[0mRandomBlackjackPolicy\u001b[0m\u001b[0;34m(\u001b[0m\u001b[0;34m)\u001b[0m\u001b[0;34m,\u001b[0m \u001b[0mSimpleBlackjackPolicy\u001b[0m\u001b[0;34m(\u001b[0m\u001b[0;34m)\u001b[0m\u001b[0;34m,\u001b[0m \u001b[0mnum_episodes\u001b[0m\u001b[0;34m=\u001b[0m\u001b[0;36m10000\u001b[0m\u001b[0;34m)\u001b[0m\u001b[0;34m\u001b[0m\u001b[0;34m\u001b[0m\u001b[0m\n\u001b[0m",
      "\u001b[0;32m<ipython-input-34-0a558f78ae6b>\u001b[0m in \u001b[0;36mmc_importance_sampling\u001b[0;34m(env, behavior_policy, target_policy, num_episodes, discount_factor, sampling_function)\u001b[0m\n\u001b[1;32m     23\u001b[0m     \u001b[0mreturns_count\u001b[0m \u001b[0;34m=\u001b[0m \u001b[0mdefaultdict\u001b[0m\u001b[0;34m(\u001b[0m\u001b[0mfloat\u001b[0m\u001b[0;34m)\u001b[0m\u001b[0;34m\u001b[0m\u001b[0;34m\u001b[0m\u001b[0m\n\u001b[1;32m     24\u001b[0m \u001b[0;34m\u001b[0m\u001b[0m\n\u001b[0;32m---> 25\u001b[0;31m     \u001b[0mpi_1\u001b[0m \u001b[0;34m=\u001b[0m \u001b[0mtarget_policy\u001b[0m\u001b[0;34m.\u001b[0m\u001b[0mget_probs\u001b[0m\u001b[0;34m(\u001b[0m\u001b[0mnp\u001b[0m\u001b[0;34m.\u001b[0m\u001b[0marange\u001b[0m\u001b[0;34m(\u001b[0m\u001b[0;36m0\u001b[0m\u001b[0;34m,\u001b[0m\u001b[0;36m22\u001b[0m\u001b[0;34m)\u001b[0m\u001b[0;34m,\u001b[0m\u001b[0mnp\u001b[0m\u001b[0;34m.\u001b[0m\u001b[0mzeros\u001b[0m\u001b[0;34m(\u001b[0m\u001b[0;36m21\u001b[0m\u001b[0;34m)\u001b[0m\u001b[0;34m+\u001b[0m\u001b[0;36m1\u001b[0m\u001b[0;34m)\u001b[0m\u001b[0;34m\u001b[0m\u001b[0;34m\u001b[0m\u001b[0m\n\u001b[0m\u001b[1;32m     26\u001b[0m     \u001b[0mpi_0\u001b[0m \u001b[0;34m=\u001b[0m \u001b[0mtarget_policy\u001b[0m\u001b[0;34m.\u001b[0m\u001b[0mget_probs\u001b[0m\u001b[0;34m(\u001b[0m\u001b[0mnp\u001b[0m\u001b[0;34m.\u001b[0m\u001b[0marange\u001b[0m\u001b[0;34m(\u001b[0m\u001b[0;36m0\u001b[0m\u001b[0;34m,\u001b[0m\u001b[0;36m22\u001b[0m\u001b[0;34m)\u001b[0m\u001b[0;34m,\u001b[0m\u001b[0mnp\u001b[0m\u001b[0;34m.\u001b[0m\u001b[0mzeros\u001b[0m\u001b[0;34m(\u001b[0m\u001b[0;36m21\u001b[0m\u001b[0;34m)\u001b[0m\u001b[0;34m)\u001b[0m\u001b[0;34m\u001b[0m\u001b[0;34m\u001b[0m\u001b[0m\n\u001b[1;32m     27\u001b[0m     \u001b[0mpi\u001b[0m \u001b[0;34m=\u001b[0m \u001b[0mnp\u001b[0m\u001b[0;34m.\u001b[0m\u001b[0marray\u001b[0m\u001b[0;34m(\u001b[0m\u001b[0;34m[\u001b[0m\u001b[0mpi_0\u001b[0m\u001b[0;34m,\u001b[0m\u001b[0mpi_1\u001b[0m\u001b[0;34m]\u001b[0m\u001b[0;34m)\u001b[0m\u001b[0;34m\u001b[0m\u001b[0;34m\u001b[0m\u001b[0m\n",
      "\u001b[0;32m<ipython-input-8-e761ff03c1a2>\u001b[0m in \u001b[0;36mget_probs\u001b[0;34m(self, states, actions)\u001b[0m\n\u001b[1;32m     17\u001b[0m         \u001b[0mprobs\u001b[0m \u001b[0;34m=\u001b[0m \u001b[0;34m[\u001b[0m\u001b[0;34m]\u001b[0m\u001b[0;34m\u001b[0m\u001b[0;34m\u001b[0m\u001b[0m\n\u001b[1;32m     18\u001b[0m         \u001b[0;32mfor\u001b[0m \u001b[0mstate\u001b[0m\u001b[0;34m,\u001b[0m \u001b[0maction\u001b[0m \u001b[0;32min\u001b[0m \u001b[0mzip\u001b[0m\u001b[0;34m(\u001b[0m\u001b[0mstates\u001b[0m\u001b[0;34m,\u001b[0m \u001b[0mactions\u001b[0m\u001b[0;34m)\u001b[0m\u001b[0;34m:\u001b[0m\u001b[0;34m\u001b[0m\u001b[0;34m\u001b[0m\u001b[0m\n\u001b[0;32m---> 19\u001b[0;31m             \u001b[0mpolicyaction\u001b[0m \u001b[0;34m=\u001b[0m \u001b[0mself\u001b[0m\u001b[0;34m.\u001b[0m\u001b[0msample_action\u001b[0m\u001b[0;34m(\u001b[0m\u001b[0mstate\u001b[0m\u001b[0;34m)\u001b[0m\u001b[0;34m\u001b[0m\u001b[0;34m\u001b[0m\u001b[0m\n\u001b[0m\u001b[1;32m     20\u001b[0m             \u001b[0mprobs\u001b[0m\u001b[0;34m.\u001b[0m\u001b[0mappend\u001b[0m\u001b[0;34m(\u001b[0m\u001b[0mfloat\u001b[0m\u001b[0;34m(\u001b[0m\u001b[0mpolicyaction\u001b[0m \u001b[0;34m==\u001b[0m \u001b[0maction\u001b[0m\u001b[0;34m)\u001b[0m\u001b[0;34m)\u001b[0m\u001b[0;34m\u001b[0m\u001b[0;34m\u001b[0m\u001b[0m\n\u001b[1;32m     21\u001b[0m \u001b[0;34m\u001b[0m\u001b[0m\n",
      "\u001b[0;32m<ipython-input-8-e761ff03c1a2>\u001b[0m in \u001b[0;36msample_action\u001b[0;34m(self, state)\u001b[0m\n\u001b[1;32m     32\u001b[0m             \u001b[0mAn\u001b[0m \u001b[0maction\u001b[0m \u001b[0;34m(\u001b[0m\u001b[0mint\u001b[0m\u001b[0;34m)\u001b[0m\u001b[0;34m.\u001b[0m\u001b[0;34m\u001b[0m\u001b[0;34m\u001b[0m\u001b[0m\n\u001b[1;32m     33\u001b[0m         \"\"\"\n\u001b[0;32m---> 34\u001b[0;31m         \u001b[0;32mif\u001b[0m \u001b[0mstate\u001b[0m\u001b[0;34m[\u001b[0m\u001b[0;36m0\u001b[0m\u001b[0;34m]\u001b[0m \u001b[0;34m==\u001b[0m \u001b[0;36m20\u001b[0m \u001b[0;32mor\u001b[0m \u001b[0mstate\u001b[0m\u001b[0;34m[\u001b[0m\u001b[0;36m0\u001b[0m\u001b[0;34m]\u001b[0m \u001b[0;34m==\u001b[0m \u001b[0;36m21\u001b[0m\u001b[0;34m:\u001b[0m\u001b[0;34m\u001b[0m\u001b[0;34m\u001b[0m\u001b[0m\n\u001b[0m\u001b[1;32m     35\u001b[0m             \u001b[0;32mreturn\u001b[0m \u001b[0;36m0\u001b[0m\u001b[0;34m\u001b[0m\u001b[0;34m\u001b[0m\u001b[0m\n\u001b[1;32m     36\u001b[0m         \u001b[0;32mreturn\u001b[0m \u001b[0;36m1\u001b[0m\u001b[0;34m\u001b[0m\u001b[0;34m\u001b[0m\u001b[0m\n",
      "\u001b[0;31mIndexError\u001b[0m: invalid index to scalar variable."
     ]
    }
   ],
   "source": [
    "V_10k = mc_importance_sampling(env, RandomBlackjackPolicy(), SimpleBlackjackPolicy(), num_episodes=10000)"
   ]
  },
  {
   "cell_type": "code",
   "execution_count": 136,
   "metadata": {},
   "outputs": [
    {
     "ename": "NameError",
     "evalue": "name 'V' is not defined",
     "output_type": "error",
     "traceback": [
      "\u001b[0;31m---------------------------------------------------------------------------\u001b[0m",
      "\u001b[0;31mNameError\u001b[0m                                 Traceback (most recent call last)",
      "\u001b[0;32m<ipython-input-136-f5f8c80a95c3>\u001b[0m in \u001b[0;36m<module>\u001b[0;34m\u001b[0m\n\u001b[0;32m----> 1\u001b[0;31m \u001b[0mV_10k\u001b[0m \u001b[0;34m=\u001b[0m \u001b[0mmc_importance_sampling\u001b[0m\u001b[0;34m(\u001b[0m\u001b[0menv\u001b[0m\u001b[0;34m,\u001b[0m \u001b[0mRandomBlackjackPolicy\u001b[0m\u001b[0;34m(\u001b[0m\u001b[0;34m)\u001b[0m\u001b[0;34m,\u001b[0m \u001b[0mSimpleBlackjackPolicy\u001b[0m\u001b[0;34m(\u001b[0m\u001b[0;34m)\u001b[0m\u001b[0;34m,\u001b[0m \u001b[0mnum_episodes\u001b[0m\u001b[0;34m=\u001b[0m\u001b[0;36m10000\u001b[0m\u001b[0;34m)\u001b[0m\u001b[0;34m\u001b[0m\u001b[0;34m\u001b[0m\u001b[0m\n\u001b[0m\u001b[1;32m      2\u001b[0m \u001b[0mprint\u001b[0m\u001b[0;34m(\u001b[0m\u001b[0mV_10k\u001b[0m\u001b[0;34m)\u001b[0m\u001b[0;34m\u001b[0m\u001b[0;34m\u001b[0m\u001b[0m\n",
      "\u001b[0;32m<ipython-input-135-1ecbf12ba2db>\u001b[0m in \u001b[0;36mmc_importance_sampling\u001b[0;34m(env, behavior_policy, target_policy, num_episodes, discount_factor, sampling_function)\u001b[0m\n\u001b[1;32m     50\u001b[0m \u001b[0;31m#                 V[s] = sum(returns[s])/len(returns[s])\u001b[0m\u001b[0;34m\u001b[0m\u001b[0;34m\u001b[0m\u001b[0;34m\u001b[0m\u001b[0m\n\u001b[1;32m     51\u001b[0m \u001b[0;34m\u001b[0m\u001b[0m\n\u001b[0;32m---> 52\u001b[0;31m     \u001b[0;32mreturn\u001b[0m \u001b[0mV\u001b[0m\u001b[0;34m\u001b[0m\u001b[0;34m\u001b[0m\u001b[0m\n\u001b[0m",
      "\u001b[0;31mNameError\u001b[0m: name 'V' is not defined"
     ]
    }
   ],
   "source": [
    "V_10k = mc_importance_sampling(env, RandomBlackjackPolicy(), SimpleBlackjackPolicy(), num_episodes=10000)\n",
    "print(V_10k)"
   ]
  },
  {
   "cell_type": "code",
   "execution_count": null,
   "metadata": {},
   "outputs": [],
   "source": [
    "%%time\n",
    "# Let's run your code one time\n",
    "V_10k = mc_importance_sampling(env, RandomBlackjackPolicy(), SimpleBlackjackPolicy(), num_episodes=10000)\n",
    "V_500k = mc_importance_sampling(env, RandomBlackjackPolicy(), SimpleBlackjackPolicy(), num_episodes=500000)"
   ]
  },
  {
   "cell_type": "markdown",
   "metadata": {},
   "source": [
    "Plot the V function. Do the plots look like what you expected?"
   ]
  },
  {
   "cell_type": "code",
   "execution_count": null,
   "metadata": {},
   "outputs": [],
   "source": [
    "# YOUR CODE HERE\n",
    "raise NotImplementedError"
   ]
  },
  {
   "cell_type": "markdown",
   "metadata": {},
   "source": [
    "If you want to test/submit your solution **restart the kernel, run all cells and submit the mc_autograde.py file into codegrade.**"
   ]
  }
 ],
 "metadata": {
  "celltoolbar": "Create Assignment",
  "kernelspec": {
   "display_name": "Python 3",
   "language": "python",
   "name": "python3"
  },
  "language_info": {
   "codemirror_mode": {
    "name": "ipython",
    "version": 3
   },
   "file_extension": ".py",
   "mimetype": "text/x-python",
   "name": "python",
   "nbconvert_exporter": "python",
   "pygments_lexer": "ipython3",
   "version": "3.7.3"
  }
 },
 "nbformat": 4,
 "nbformat_minor": 2
}
