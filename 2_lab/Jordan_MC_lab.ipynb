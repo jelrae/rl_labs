{
 "cells": [
  {
   "cell_type": "markdown",
   "metadata": {},
   "source": [
    "# Reinforcement Learning - Monte Carlo\n",
    "If you want to test/submit your solution **restart the kernel, run all cells and submit the mc_autograde.py file into codegrade.**"
   ]
  },
  {
   "cell_type": "code",
   "execution_count": 1,
   "metadata": {},
   "outputs": [],
   "source": [
    "# This cell imports %%execwritefile command (executes cell and writes it into file). \n",
    "# All cells that start with %%execwritefile should be in mc_autograde.py file after running all cells.\n",
    "from custommagics import CustomMagics\n",
    "get_ipython().register_magics(CustomMagics)"
   ]
  },
  {
   "cell_type": "code",
   "execution_count": 2,
   "metadata": {},
   "outputs": [
    {
     "name": "stdout",
     "output_type": "stream",
     "text": [
      "Overwriting mc_autograde.py\n"
     ]
    }
   ],
   "source": [
    "%%execwritefile mc_autograde.py\n",
    "import numpy as np\n",
    "from collections import defaultdict\n",
    "from tqdm import tqdm as _tqdm\n",
    "\n",
    "def tqdm(*args, **kwargs):\n",
    "    return _tqdm(*args, **kwargs, mininterval=1)  # Safety, do not overflow buffer"
   ]
  },
  {
   "cell_type": "code",
   "execution_count": 3,
   "metadata": {},
   "outputs": [],
   "source": [
    "import matplotlib.pyplot as plt\n",
    "import sys\n",
    "\n",
    "\n",
    "%matplotlib inline\n",
    "\n",
    "assert sys.version_info[:3] >= (3, 6, 0), \"Make sure you have Python 3.6 installed!\""
   ]
  },
  {
   "cell_type": "markdown",
   "metadata": {
    "nbgrader": {
     "grade": false,
     "grade_id": "cell-7ab207a9f93cf4d3",
     "locked": true,
     "schema_version": 1,
     "solution": false
    }
   },
   "source": [
    "## 1. Monte Carlo Prediction"
   ]
  },
  {
   "cell_type": "markdown",
   "metadata": {
    "nbgrader": {
     "grade": false,
     "grade_id": "cell-5f0c1d608436b67b",
     "locked": true,
     "schema_version": 1,
     "solution": false
    }
   },
   "source": [
    "For the Monte Carlo Prediction we will look at the Blackjack game (Example 5.1 from the book), for which the `BlackjackEnv` is implemented in `blackjack.py`. Note that compared to the gridworld, the state is no longer a single integer, which is why we use a dictionary to represent the value function instead of a numpy array. By using `defaultdict`, each state gets a default value of 0."
   ]
  },
  {
   "cell_type": "code",
   "execution_count": 4,
   "metadata": {
    "nbgrader": {
     "grade": false,
     "grade_id": "cell-a342b69fcfdea5b2",
     "locked": true,
     "schema_version": 1,
     "solution": false
    }
   },
   "outputs": [],
   "source": [
    "from blackjack import BlackjackEnv\n",
    "env = BlackjackEnv()"
   ]
  },
  {
   "cell_type": "markdown",
   "metadata": {},
   "source": [
    "For the Monte Carlo algorithm, we no longer have transition probabilities and we need to *interact* with the environment. This means that we start an episode by using `env.reset` and send the environment actions via `env.step` to observe the reward and next observation (state)."
   ]
  },
  {
   "cell_type": "code",
   "execution_count": 5,
   "metadata": {
    "nbgrader": {
     "grade": false,
     "grade_id": "cell-85356add2643980e",
     "locked": true,
     "schema_version": 1,
     "solution": false
    }
   },
   "outputs": [],
   "source": [
    "# So let's have a look at what we can do in general with an environment...\n",
    "import gym\n",
    "?gym.Env"
   ]
  },
  {
   "cell_type": "code",
   "execution_count": 6,
   "metadata": {
    "nbgrader": {
     "grade": false,
     "grade_id": "cell-251b7b17c5d08a24",
     "locked": true,
     "schema_version": 1,
     "solution": false
    }
   },
   "outputs": [],
   "source": [
    "# We can also look at the documentation/implementation of a method\n",
    "?env.step"
   ]
  },
  {
   "cell_type": "code",
   "execution_count": 7,
   "metadata": {
    "nbgrader": {
     "grade": false,
     "grade_id": "cell-6decb2ab83c5bcec",
     "locked": true,
     "schema_version": 1,
     "solution": false
    }
   },
   "outputs": [],
   "source": [
    "??BlackjackEnv"
   ]
  },
  {
   "cell_type": "markdown",
   "metadata": {
    "nbgrader": {
     "grade": false,
     "grade_id": "cell-ae161126d3cb1b7b",
     "locked": true,
     "schema_version": 1,
     "solution": false
    }
   },
   "source": [
    "A very simple policy for Blackjack is to *stick* if we have 20 or 21 points and *hit* otherwise. We want to know how good this policy is. This policy is *deterministic* and therefore a function that maps an observation to a single action. Technically, we can implement this as a dictionary , a function or a class with a function, where we use the last option. Moreover, it is often useful (as you will see later) to implement a function that returns  the probability $\\pi(a|s)$ for the state action pair (the probability that this policy would perform certain action in given state). We group these two functions in a policy class. To get started, let's implement this simple policy for BlackJack."
   ]
  },
  {
   "cell_type": "code",
   "execution_count": 8,
   "metadata": {
    "nbgrader": {
     "grade": false,
     "grade_id": "cell-9fdcb503df9cdb08",
     "locked": false,
     "schema_version": 1,
     "solution": true
    }
   },
   "outputs": [
    {
     "name": "stdout",
     "output_type": "stream",
     "text": [
      "Appending to mc_autograde.py\n"
     ]
    }
   ],
   "source": [
    "%%execwritefile -a mc_autograde.py\n",
    "\n",
    "class SimpleBlackjackPolicy(object):\n",
    "    \"\"\"\n",
    "    A simple BlackJack policy that sticks with 20 or 21 points and hits otherwise.\n",
    "    \"\"\"\n",
    "    def get_probs(self, states, actions):\n",
    "        \"\"\"\n",
    "        This method takes a list of states and a list of actions and returns a numpy array that contains a probability\n",
    "        of perfoming action in given state for every corresponding state action pair. \n",
    "\n",
    "        Args:\n",
    "            states: a list of states.\n",
    "            actions: a list of actions.\n",
    "\n",
    "        Returns:\n",
    "            Numpy array filled with probabilities (same length as states and actions)\n",
    "        \"\"\"\n",
    "        probs = []\n",
    "        for state, action in zip(states, actions):\n",
    "            policyaction = self.sample_action(state)\n",
    "            probs.append(float(policyaction == action))\n",
    "        \n",
    "        return np.array(probs)\n",
    "    \n",
    "    def sample_action(self, state):\n",
    "        \"\"\"\n",
    "        This method takes a state as input and returns an action sampled from this policy.  \n",
    "\n",
    "        Args:\n",
    "            state: current state\n",
    "\n",
    "        Returns:\n",
    "            An action (int).\n",
    "        \"\"\"\n",
    "        if state[0] == 20 or state[0] == 21:\n",
    "            return 0\n",
    "        return 1"
   ]
  },
  {
   "cell_type": "code",
   "execution_count": 9,
   "metadata": {
    "nbgrader": {
     "grade": true,
     "grade_id": "cell-99f02e2d9b338a5b",
     "locked": true,
     "points": 1,
     "schema_version": 1,
     "solution": false
    }
   },
   "outputs": [
    {
     "name": "stdout",
     "output_type": "stream",
     "text": [
      "State: (14, 10, True)\n",
      "Sampled Action: 1\n",
      "Probabilities [stick, hit]: [0. 1.]\n"
     ]
    }
   ],
   "source": [
    "# Let's check if it makes sense\n",
    "env = BlackjackEnv()\n",
    "s = env.reset()\n",
    "policy = SimpleBlackjackPolicy()\n",
    "print(\"State: {}\\nSampled Action: {}\\nProbabilities [stick, hit]: {}\".format(s, policy.sample_action(s), policy.get_probs([s,s],[0,1])))"
   ]
  },
  {
   "cell_type": "markdown",
   "metadata": {},
   "source": [
    "Since there are multiple algorithms which require data from single episode (or multiple episodes) it is often useful to write a routine that will sample a single episode. This will save us some time later. Implement a *sample_episode* function which uses environment and policy to sample a single episode."
   ]
  },
  {
   "cell_type": "code",
   "execution_count": 10,
   "metadata": {},
   "outputs": [
    {
     "name": "stdout",
     "output_type": "stream",
     "text": [
      "Appending to mc_autograde.py\n"
     ]
    }
   ],
   "source": [
    "%%execwritefile -a mc_autograde.py\n",
    "\n",
    "def sample_episode(env, policy):\n",
    "    \"\"\"\n",
    "    A sampling routine. Given environment and a policy samples one episode and returns states, actions, rewards\n",
    "    and dones from environment's step function and policy's sample_action function as lists.\n",
    "\n",
    "    Args:\n",
    "        env: OpenAI gym environment.\n",
    "        policy: A policy which allows us to sample actions with its sample_action method.\n",
    "\n",
    "    Returns:\n",
    "        Tuple of lists (states, actions, rewards, dones). All lists should have same length. \n",
    "        Hint: Do not include the state after the termination in the list of states.\n",
    "    \"\"\"\n",
    "    states = []\n",
    "    actions = []\n",
    "    rewards = []\n",
    "    dones = []\n",
    "    \n",
    "    states.append(env.reset())\n",
    "    t = 0\n",
    "    while True:\n",
    "        a = policy.sample_action(states[t])\n",
    "        sp, r, done, _ = env.step(a)\n",
    "        \n",
    "        actions.append(a)\n",
    "        rewards.append(r)\n",
    "        dones.append(done)\n",
    "        if done:\n",
    "            break\n",
    "        \n",
    "        states.append(sp)\n",
    "        t += 1\n",
    "    #TODO Should this be a tuple?  like (states, actions, rewards, dones)\n",
    "    return states, actions, rewards, dones"
   ]
  },
  {
   "cell_type": "code",
   "execution_count": 11,
   "metadata": {},
   "outputs": [
    {
     "name": "stdout",
     "output_type": "stream",
     "text": [
      "Episode 0:\n",
      "States [(14, 6, False)]\n",
      "Actions [1]\n",
      "Rewards [-1]\n",
      "Dones [True]\n",
      "\n",
      "Episode 1:\n",
      "States [(20, 9, False)]\n",
      "Actions [0]\n",
      "Rewards [-1]\n",
      "Dones [True]\n",
      "\n",
      "Episode 2:\n",
      "States [(20, 10, False)]\n",
      "Actions [0]\n",
      "Rewards [0]\n",
      "Dones [True]\n",
      "\n"
     ]
    }
   ],
   "source": [
    "# Let's sample some episodes\n",
    "env = BlackjackEnv()\n",
    "policy = SimpleBlackjackPolicy()\n",
    "for episode in range(3):\n",
    "    trajectory_data = sample_episode(env, policy)\n",
    "    print(\"Episode {}:\\nStates {}\\nActions {}\\nRewards {}\\nDones {}\\n\".format(episode,*trajectory_data))"
   ]
  },
  {
   "cell_type": "markdown",
   "metadata": {
    "nbgrader": {
     "grade": false,
     "grade_id": "cell-0184f4c719afb98c",
     "locked": true,
     "schema_version": 1,
     "solution": false
    }
   },
   "source": [
    "Now implement the MC prediction algorithm (either first visit or every visit). Hint: you can use `for i in tqdm(range(num_episodes))` to show a progress bar. Use the sampling function from above to sample data from a single episode."
   ]
  },
  {
   "cell_type": "code",
   "execution_count": 12,
   "metadata": {},
   "outputs": [
    {
     "name": "stdout",
     "output_type": "stream",
     "text": [
      "Appending to mc_autograde.py\n"
     ]
    }
   ],
   "source": [
    "%%execwritefile -a mc_autograde.py\n",
    "\n",
    "def mc_prediction(env, policy, num_episodes, discount_factor=1.0, sampling_function=sample_episode):\n",
    "    \"\"\"\n",
    "    Monte Carlo prediction algorithm. Calculates the value function\n",
    "    for a given policy using sampling.\n",
    "    \n",
    "    Args:\n",
    "        env: OpenAI gym environment.\n",
    "        policy: A policy which allows us to sample actions with its sample_action method.\n",
    "        num_episodes: Number of episodes to sample.\n",
    "        discount_factor: Gamma discount factor.\n",
    "        sampling_function: Function that generates data from one episode.\n",
    "    \n",
    "    Returns:\n",
    "        A dictionary that maps from state -> value.\n",
    "        The state is a tuple and the value is a float.\n",
    "    \"\"\"\n",
    "\n",
    "    # Keeps track of current V and count of returns for each state\n",
    "    # to calculate an update.\n",
    "    V = defaultdict(float)\n",
    "    \n",
    "    returns = defaultdict(list)\n",
    "    \n",
    "    returns_count = defaultdict(float)\n",
    "    \n",
    "    for i in tqdm(range(num_episodes)):\n",
    "        S = []\n",
    "        states, actions, rewards, dones = sampling_function(env, policy)\n",
    "        \n",
    "        G = 0\n",
    "        for idx in range(len(states) - 1, -1, -1):\n",
    "            G = discount_factor * G + rewards[idx]\n",
    "            \n",
    "            s = states[idx]\n",
    "            if s not in S:\n",
    "                S.append(s)\n",
    "                returns[s].append(G)\n",
    "                V[s] = sum(returns[s])/len(returns[s])\n",
    "                \n",
    "    return V"
   ]
  },
  {
   "cell_type": "code",
   "execution_count": 13,
   "metadata": {},
   "outputs": [
    {
     "name": "stderr",
     "output_type": "stream",
     "text": [
      "100%|██████████| 10000/10000 [00:00<00:00, 14860.63it/s]"
     ]
    },
    {
     "name": "stdout",
     "output_type": "stream",
     "text": [
      "defaultdict(<class 'float'>, {(21, 10, False): 0.9148264984227129, (18, 10, False): -0.7610062893081762, (16, 10, False): -0.6618357487922706, (15, 10, False): -0.6954314720812182, (18, 10, True): -0.5, (18, 8, False): -0.6428571428571429, (12, 8, False): -0.4857142857142857, (14, 10, False): -0.648989898989899, (19, 4, False): -0.7767857142857143, (14, 4, False): -0.5714285714285714, (21, 1, False): 0.56, (13, 1, False): -0.693069306930693, (18, 3, False): -0.7555555555555555, (12, 10, False): -0.625974025974026, (17, 8, True): -0.30434782608695654, (21, 7, True): 0.8775510204081632, (21, 6, True): 0.9069767441860465, (13, 3, False): -0.59, (15, 3, False): -0.47435897435897434, (18, 3, True): -0.6956521739130435, (13, 10, True): -0.41935483870967744, (20, 10, True): 0.4375, (16, 10, True): -0.44, (20, 10, False): 0.42783505154639173, (19, 10, False): -0.7870967741935484, (19, 10, True): -0.5342465753424658, (21, 5, False): 0.8589743589743589, (16, 5, False): -0.6804123711340206, (12, 5, False): -0.5894736842105263, (17, 10, False): -0.6865671641791045, (21, 3, True): 0.8936170212765957, (21, 8, False): 0.9113924050632911, (14, 8, False): -0.5, (17, 4, False): -0.7547169811320755, (19, 5, False): -0.6916666666666667, (17, 2, False): -0.5882352941176471, (17, 2, True): -0.5625, (15, 7, False): -0.6788990825688074, (21, 10, True): 0.8727272727272727, (15, 10, True): -0.12195121951219512, (14, 2, False): -0.5684210526315789, (15, 2, False): -0.5978260869565217, (18, 5, False): -0.6764705882352942, (19, 7, False): -0.7863247863247863, (16, 7, False): -0.63, (17, 8, False): -0.5979381443298969, (19, 9, False): -0.7142857142857143, (19, 9, True): -0.5263157894736842, (13, 9, True): -0.14285714285714285, (13, 10, False): -0.6233766233766234, (17, 5, False): -0.6442307692307693, (13, 7, False): -0.5128205128205128, (18, 2, False): -0.7142857142857143, (20, 1, False): 0.08333333333333333, (12, 2, False): -0.6883116883116883, (21, 7, False): 0.9594594594594594, (17, 7, False): -0.6396396396396397, (13, 4, False): -0.5104166666666666, (13, 3, True): -0.8, (20, 4, False): 0.5902777777777778, (16, 4, True): -0.6666666666666666, (20, 5, False): 0.7819548872180451, (19, 1, False): -0.8446601941747572, (21, 6, False): 0.8955223880597015, (17, 6, False): -0.5945945945945946, (15, 1, False): -0.7383177570093458, (12, 1, False): -0.8160919540229885, (15, 4, False): -0.7653061224489796, (13, 6, False): -0.5333333333333333, (18, 6, True): -0.5294117647058824, (17, 9, False): -0.7766990291262136, (16, 2, True): -0.5, (17, 1, False): -0.7010309278350515, (20, 6, False): 0.722972972972973, (19, 6, False): -0.7878787878787878, (21, 1, True): 0.532258064516129, (12, 10, True): -0.5714285714285714, (19, 2, False): -0.7663551401869159, (14, 6, False): -0.5656565656565656, (21, 4, False): 0.8970588235294118, (20, 6, True): 0.47368421052631576, (20, 8, False): 0.7115384615384616, (21, 3, False): 0.8987341772151899, (12, 3, False): -0.5161290322580645, (20, 2, False): 0.6370370370370371, (16, 1, False): -0.7956989247311828, (14, 7, False): -0.5520833333333334, (12, 7, False): -0.29069767441860467, (21, 2, True): 0.8653846153846154, (15, 9, False): -0.49382716049382713, (18, 7, False): -0.7479674796747967, (16, 4, False): -0.6851851851851852, (18, 6, False): -0.6636363636363637, (18, 4, False): -0.7358490566037735, (20, 9, False): 0.7943262411347518, (14, 9, False): -0.5533980582524272, (17, 3, False): -0.6435643564356436, (14, 3, False): -0.6458333333333334, (20, 7, False): 0.7631578947368421, (13, 5, False): -0.5301204819277109, (13, 9, False): -0.5604395604395604, (20, 4, True): 0.6428571428571429, (17, 4, True): -0.5714285714285714, (21, 9, True): 0.9433962264150944, (15, 5, False): -0.6222222222222222, (14, 5, False): -0.5353535353535354, (15, 6, False): -0.5681818181818182, (14, 1, False): -0.6634615384615384, (17, 10, True): -0.2876712328767123, (21, 9, False): 0.9404761904761905, (19, 4, True): -0.4444444444444444, (15, 4, True): -0.5555555555555556, (13, 4, True): 0.125, (16, 9, False): -0.6767676767676768, (14, 6, True): -0.36363636363636365, (13, 8, False): -0.5, (16, 2, False): -0.5544554455445545, (12, 6, False): -0.6372549019607843, (19, 3, False): -0.8448275862068966, (14, 10, True): -0.30303030303030304, (19, 1, True): -0.65, (18, 1, False): -0.8288288288288288, (20, 3, False): 0.6075949367088608, (15, 8, False): -0.5512820512820513, (21, 4, True): 0.8780487804878049, (16, 8, False): -0.5306122448979592, (16, 8, True): -0.25, (16, 3, False): -0.7102803738317757, (18, 9, False): -0.6122448979591837, (16, 9, True): -0.3, (16, 5, True): 0.14285714285714285, (21, 8, True): 0.8809523809523809, (12, 9, False): -0.43529411764705883, (16, 6, False): -0.735632183908046, (19, 6, True): -0.5925925925925926, (19, 8, False): -0.7251908396946565, (12, 4, False): -0.5977011494252874, (18, 8, True): -0.5, (18, 9, True): -1.0, (21, 2, False): 0.8641975308641975, (20, 3, True): 0.5789473684210527, (18, 7, True): -0.4166666666666667, (20, 5, True): 0.8518518518518519, (14, 5, True): 0.0, (19, 3, True): -0.5384615384615384, (13, 5, True): -0.4, (18, 1, True): -0.75, (12, 4, True): -0.5, (15, 3, True): -1.0, (17, 1, True): -0.6666666666666666, (15, 8, True): -0.3333333333333333, (13, 8, True): -0.25, (20, 9, True): 0.7222222222222222, (14, 2, True): -0.5, (17, 6, True): -0.45, (17, 3, True): -0.5555555555555556, (20, 8, True): 0.8260869565217391, (19, 8, True): -0.4782608695652174, (19, 7, True): -0.6428571428571429, (17, 7, True): -0.5714285714285714, (15, 5, True): 0.06666666666666667, (15, 7, True): -0.7142857142857143, (14, 7, True): -0.2, (20, 2, True): 0.7647058823529411, (18, 5, True): -0.5714285714285714, (13, 2, False): -0.6222222222222222, (16, 3, True): -0.23076923076923078, (14, 3, True): 0.0, (13, 7, True): 0.14285714285714285, (15, 6, True): -0.4, (17, 5, True): -0.4666666666666667, (12, 8, True): 0.1111111111111111, (19, 2, True): -0.5384615384615384, (18, 4, True): -0.36363636363636365, (20, 1, True): 0.2857142857142857, (15, 1, True): -0.4166666666666667, (16, 1, True): -0.6, (13, 1, True): -0.6428571428571429, (13, 2, True): -0.23076923076923078, (15, 9, True): -0.0625, (12, 9, True): -0.3333333333333333, (19, 5, True): -0.5263157894736842, (21, 5, True): 0.8909090909090909, (12, 6, True): 0.3333333333333333, (20, 7, True): 0.8571428571428571, (12, 7, True): 0.3333333333333333, (13, 6, True): -0.6, (14, 8, True): 0.0, (16, 7, True): 0.0, (18, 2, True): -0.6666666666666666, (12, 1, True): -0.5, (14, 1, True): -0.14285714285714285, (16, 6, True): -0.5333333333333333, (14, 4, True): -0.7142857142857143, (17, 9, True): -0.6, (15, 2, True): -0.6, (12, 3, True): -0.6, (14, 9, True): -1.0, (12, 5, True): 0.3333333333333333, (12, 2, True): -1.0})\n"
     ]
    },
    {
     "name": "stderr",
     "output_type": "stream",
     "text": [
      "\n"
     ]
    }
   ],
   "source": [
    "V_10k = mc_prediction(env, SimpleBlackjackPolicy(), num_episodes=10000)\n",
    "print(V_10k)"
   ]
  },
  {
   "cell_type": "markdown",
   "metadata": {
    "nbgrader": {
     "grade": false,
     "grade_id": "cell-9d32f907f180c088",
     "locked": true,
     "schema_version": 1,
     "solution": false
    }
   },
   "source": [
    "Now make *4 plots* like Figure 5.1 in the book. You can either make 3D plots or heatmaps. Make sure that your results look similar to the results in the book. Give your plots appropriate titles, axis labels, etc."
   ]
  },
  {
   "cell_type": "code",
   "execution_count": 14,
   "metadata": {
    "nbgrader": {
     "grade": false,
     "grade_id": "cell-cbaf4d6a0e4c00fa",
     "locked": true,
     "schema_version": 1,
     "solution": false
    },
    "scrolled": true
   },
   "outputs": [
    {
     "name": "stderr",
     "output_type": "stream",
     "text": [
      "100%|██████████| 10000/10000 [00:00<00:00, 16501.55it/s]\n",
      "100%|██████████| 500000/500000 [02:15<00:00, 3684.78it/s]\n"
     ]
    },
    {
     "name": "stdout",
     "output_type": "stream",
     "text": [
      "CPU times: user 2min 16s, sys: 160 ms, total: 2min 16s\n",
      "Wall time: 2min 16s\n"
     ]
    }
   ],
   "source": [
    "%%time\n",
    "# Let's run your code one time\n",
    "V_10k = mc_prediction(env, SimpleBlackjackPolicy(), num_episodes=10000)\n",
    "V_500k = mc_prediction(env, SimpleBlackjackPolicy(), num_episodes=500000)"
   ]
  },
  {
   "cell_type": "code",
   "execution_count": 15,
   "metadata": {
    "nbgrader": {
     "grade": true,
     "grade_id": "cell-ba046443478aa517",
     "locked": false,
     "points": 2,
     "schema_version": 1,
     "solution": true
    }
   },
   "outputs": [
    {
     "name": "stdout",
     "output_type": "stream",
     "text": [
      "8.0\n",
      "17.0\n",
      "[-0.66972477 -0.63207547 -0.55855856 -0.66259169 -0.7016129   0.75568182\n",
      " -0.71717172 -0.776       0.65217391 -0.48192771 -0.67346939  0.75159236\n",
      " -0.5        -0.65591398 -0.4494382  -0.60824742 -0.7394958  -0.71544715\n",
      " -0.6635514   0.86054422 -0.60051546 -0.55269923  0.88157895 -0.48039216\n",
      "  0.6626506  -0.77443609 -0.76923077 -0.68131868 -0.63095238 -0.58839779\n",
      " -0.75485437  0.46362098 -0.67368421  0.85294118 -0.68627451 -0.63247863\n",
      " -0.69306931 -0.63793103 -0.48214286  0.8313253   0.8343949  -0.68316832\n",
      " -0.71111111 -0.55       -0.70873786 -0.47674419  0.17241379 -0.71153846\n",
      " -0.67213115 -0.47311828 -0.69230769  0.66666667 -0.60714286 -0.61616162\n",
      "  0.74125874 -0.77678571 -0.5        -0.65625     0.91891892 -0.52688172\n",
      " -0.71296296  0.93243243 -0.71698113 -0.72115385 -0.74       -0.58181818\n",
      " -0.47727273 -0.56779661 -0.6952381  -0.74615385 -0.69230769  0.89041096\n",
      " -0.68817204  0.86842105  0.84507042 -0.73195876 -0.73873874 -0.58238636\n",
      " -0.67961165 -0.56976744 -0.69672131 -0.69879518 -0.56190476 -0.4742268\n",
      "  0.66857143 -0.76859504 -0.63636364 -0.6625     -0.68604651 -0.65217391\n",
      " -0.75510204 -0.38095238 -0.65048544 -0.77678571 -0.55405405 -0.61\n",
      " -0.61176471  0.90909091 -0.35714286 -0.57731959]\n"
     ]
    },
    {
     "data": {
      "image/png": "[encoded data removed]",
      "text/plain": [
       "<Figure size 432x288 with 4 Axes>"
      ]
     },
     "metadata": {
      "needs_background": "light"
     },
     "output_type": "display_data"
    }
   ],
   "source": [
    "from mpl_toolkits.mplot3d import Axes3D\n",
    "fig = plt.figure()\n",
    "\n",
    "noAce = []\n",
    "withAce = []\n",
    "for key, value in V_10k.items():\n",
    "    if key[2]:\n",
    "        # Take the initial player and dealer scores + calculated win chance (0 = draw, -1 = loss etc)\n",
    "        withAce.append([key[0], key[1], value])\n",
    "    else:\n",
    "        noAce.append([key[0], key[1], value])\n",
    "\n",
    "noAce = np.array(noAce)\n",
    "withAce = np.array(withAce)\n",
    "\n",
    "\n",
    "ax = fig.add_subplot(221, projection='3d')\n",
    "ax.set_title(\"No usable ace, 10k\")\n",
    "\n",
    "print(noAce[:, 1][1])\n",
    "print(noAce[:, 0][1])\n",
    "print(noAce[:, 2])\n",
    "ax.plot_trisurf(noAce[:, 1], noAce[:, 0], noAce[:, 2])\n",
    "ax.set_zlim(-1, 1)\n",
    "ax.set_ylim(10, 21)\n",
    "        \n",
    "ax = fig.add_subplot(222, projection='3d')\n",
    "ax.set_title(\"Usable ace, 10k\")\n",
    "ax.plot_trisurf(withAce[:, 1], withAce[:, 0], withAce[:, 2])  \n",
    "ax.set_zlim(-1, 1)\n",
    "ax.set_ylim(10, 21)\n",
    "\n",
    "noAce = []\n",
    "withAce = []\n",
    "for key, value in V_500k.items():\n",
    "    if key[2]:\n",
    "        # Take the initial player and dealer scores + calculated win chance (0 = draw, -1 = loss etc)\n",
    "        withAce.append([key[0], key[1], value])\n",
    "    else:\n",
    "        noAce.append([key[0], key[1], value])\n",
    "\n",
    "noAce = np.array(noAce)\n",
    "withAce = np.array(withAce)\n",
    "\n",
    "\n",
    "ax = fig.add_subplot(223, projection='3d')\n",
    "ax.plot_trisurf(noAce[:, 1], noAce[:, 0], noAce[:, 2])\n",
    "ax.set_title(\"No usable ace, 500k\")\n",
    "ax.set_zlim(-1, 1)\n",
    "ax.set_ylim(10, 21)\n",
    "        \n",
    "ax = fig.add_subplot(224, projection='3d')\n",
    "ax.plot_trisurf(withAce[:, 1], withAce[:, 0], withAce[:, 2])    \n",
    "ax.set_title(\"Usable ace, 500k\")\n",
    "ax.set_zlim(-1, 1)\n",
    "ax.set_ylim(10, 21)\n",
    "\n",
    "\n",
    "plt.show()\n"
   ]
  },
  {
   "cell_type": "markdown",
   "metadata": {},
   "source": [
    "## 2. Off-policy Monte Carlo prediction\n",
    "In real world, it is often beneficial to learn from the experience of others in addition to your own. For example, you can probably infer that running off the cliff with a car is a bad idea if you consider what \"return\" people who have tried it received.\n",
    "\n",
    "Similarly, we can benefit from the experience of other agents in reinforcement learning. In this exercise we will use off-policy monte carlo to estimate the value function of our target policy using the experience from a different behavior policy. Our target policy will be the simple policy defined above (stick if we have *20* or *21* points) and we will use a random policy that randomly chooses to stick or hit (both with 50% probability) as a behavior policy. As a first step, implement a random BlackJack policy."
   ]
  },
  {
   "cell_type": "code",
   "execution_count": 16,
   "metadata": {},
   "outputs": [
    {
     "name": "stdout",
     "output_type": "stream",
     "text": [
      "Appending to mc_autograde.py\n"
     ]
    }
   ],
   "source": [
    "%%execwritefile -a mc_autograde.py\n",
    "\n",
    "class RandomBlackjackPolicy(object):\n",
    "    \"\"\"\n",
    "    A random BlackJack policy.\n",
    "    \"\"\"\n",
    "    def get_probs(self, states, actions):\n",
    "        \"\"\"\n",
    "        This method takes a list of states and a list of actions and returns a numpy array that contains \n",
    "        a probability of perfoming action in given state for every corresponding state action pair. \n",
    "\n",
    "        Args:\n",
    "            states: a list of states.\n",
    "            actions: a list of actions.\n",
    "\n",
    "        Returns:\n",
    "            Numpy array filled with probabilities (same length as states and actions)\n",
    "        \"\"\"\n",
    "        \n",
    "        # I think this might be a bit of a cheat, we might want to make this a bit better.  I.E. I should\n",
    "        \n",
    "        return np.zeros(len(states)) + 0.5\n",
    "    \n",
    "    def sample_action(self, state):\n",
    "        \"\"\"\n",
    "        This method takes a state as input and returns an action sampled from this policy.  \n",
    "\n",
    "        Args:\n",
    "            state: current state\n",
    "\n",
    "        Returns:\n",
    "            An action (int).\n",
    "        \"\"\"\n",
    "        return np.random.choice(a=[0, 1])\n"
   ]
  },
  {
   "cell_type": "code",
   "execution_count": 17,
   "metadata": {},
   "outputs": [
    {
     "name": "stdout",
     "output_type": "stream",
     "text": [
      "State: (13, 8, False)\n",
      "Sampled Action: 0\n",
      "Probabilities [stick, hit]: [0.5 0.5]\n"
     ]
    }
   ],
   "source": [
    "# Let's check if it makes sense\n",
    "env = BlackjackEnv()\n",
    "s = env.reset()\n",
    "policy = RandomBlackjackPolicy()\n",
    "print(\"State: {}\\nSampled Action: {}\\nProbabilities [stick, hit]: {}\".format(s, policy.sample_action(s), policy.get_probs([s,s],[0,1])))"
   ]
  },
  {
   "cell_type": "markdown",
   "metadata": {},
   "source": [
    "Now implement the MC prediction algorithm with ordinary importance sampling. Use the sampling function from above to sample data from a single episode.\n",
    "\n",
    "Hint: Get probs functions may be handy. You can use `for i in tqdm(range(num_episodes))` to show a progress bar."
   ]
  },
  {
   "cell_type": "code",
   "execution_count": 18,
   "metadata": {},
   "outputs": [
    {
     "name": "stdout",
     "output_type": "stream",
     "text": [
      "Appending to mc_autograde.py\n"
     ]
    }
   ],
   "source": [
    "%%execwritefile -a mc_autograde.py\n",
    "\n",
    "def mc_importance_sampling(env, behavior_policy, target_policy, num_episodes, discount_factor=1.0,\n",
    "                           sampling_function=sample_episode):\n",
    "    \"\"\"\n",
    "    Monte Carlo prediction algorithm. Calculates the value function\n",
    "    for a given target policy using behavior policy and ordinary importance sampling.\n",
    "    \n",
    "    Args:\n",
    "        env: OpenAI gym environment.\n",
    "        behavior_policy: A policy used to collect the data.\n",
    "        target_policy: A policy which value function we want to estimate.\n",
    "        num_episodes: Number of episodes to sample.\n",
    "        discount_factor: Gamma discount factor.\n",
    "        sampling_function: Function that generates data from one episode.\n",
    "    \n",
    "    Returns:\n",
    "        A dictionary that maps from state -> value.\n",
    "        The state is a tuple and the value is a float.\n",
    "    \"\"\"\n",
    "    \n",
    "    # Keeps track of current V and count of returns for each state\n",
    "    # to calculate an update.\n",
    "    V = defaultdict(float)\n",
    "    \n",
    "#     returns = defaultdict(list)\n",
    "    returns_count = defaultdict(float)\n",
    "    \n",
    "    \n",
    "    for i in tqdm(range(num_episodes)):\n",
    "        \n",
    "        S = []\n",
    "        states, actions, rewards, dones = sampling_function(env, behavior_policy)\n",
    "\n",
    "        G = 0\n",
    "        W = 1\n",
    "        \n",
    "        for idx in range(len(states) - 1, -1 , -1):\n",
    "            \n",
    "#             print(rewards[idx])\n",
    "            G = (discount_factor * G) + rewards[idx]\n",
    "            \n",
    "#             print(states[idx], actions[idx])\n",
    "            \n",
    "            pi = target_policy.get_probs([states[idx]], [actions[idx]])\n",
    "            b = behavior_policy.get_probs([states[idx]], [actions[idx]])\n",
    "            \n",
    "            s = states[idx]\n",
    "            \n",
    "            if s not in S:\n",
    "                \n",
    "                returns_count[s] += 1\n",
    "                S.append(s)\n",
    "                \n",
    "                V[s] = V[s] + ((1/returns_count[s]) * ((W*G) - V[s]))\n",
    "                \n",
    "                W *= pi[-1]/b[-1]\n",
    "                \n",
    "                if W == 0:\n",
    "                    break\n",
    "    \n",
    "    return V"
   ]
  },
  {
   "cell_type": "code",
   "execution_count": 19,
   "metadata": {},
   "outputs": [],
   "source": [
    "# V_10k = mc_importance_sampling(env, RandomBlackjackPolicy(), SimpleBlackjackPolicy(), num_episodes=10000)"
   ]
  },
  {
   "cell_type": "code",
   "execution_count": 20,
   "metadata": {},
   "outputs": [
    {
     "name": "stderr",
     "output_type": "stream",
     "text": [
      "100%|██████████| 10000/10000 [00:00<00:00, 13707.09it/s]"
     ]
    },
    {
     "name": "stdout",
     "output_type": "stream",
     "text": [
      "defaultdict(<class 'float'>, {(16, 9, False): -0.5600000000000002, (20, 9, False): 0.08264462809917357, (14, 10, False): -0.6513157894736841, (15, 7, False): -0.5633802816901412, (21, 3, True): 0.9210526315789472, (21, 1, False): -0.14285714285714288, (15, 1, False): -0.795180722891566, (19, 10, False): -0.40432098765432106, (13, 1, False): -0.786666666666667, (15, 10, False): -0.5271084337349401, (14, 9, False): -0.5500000000000003, (18, 10, True): -0.530612244897959, (19, 9, False): -0.21311475409836064, (21, 10, False): -0.08695652173913046, (18, 1, False): -0.47435897435897456, (20, 10, False): -0.2675736961451245, (19, 8, False): -0.20547945205479456, (21, 4, True): 0.9117647058823528, (17, 4, True): -0.625, (18, 5, False): -0.10227272727272727, (21, 4, False): -0.0740740740740741, (12, 1, False): -0.8358208955223878, (21, 9, False): -0.13888888888888884, (15, 9, False): -0.4939759036144577, (17, 6, False): -0.2676056338028168, (18, 3, False): -0.4666666666666668, (18, 7, False): -0.10126582278481014, (19, 5, False): -0.07692307692307691, (16, 4, True): -1.1428571428571428, (17, 3, False): -0.3461538461538461, (21, 6, False): -0.08000000000000002, (18, 6, False): -0.14864864864864866, (14, 6, False): -0.45454545454545453, (20, 1, False): -0.3805309734513275, (19, 1, False): -0.4177215189873419, (20, 6, True): 0.9090909090909091, (17, 6, True): -1.6, (20, 5, False): -0.01666666666666669, (16, 2, False): -0.32857142857142874, (16, 6, False): -0.5476190476190478, (17, 10, False): -0.6018518518518517, (16, 3, False): -0.5679012345679012, (12, 10, False): -0.7316293929712462, (18, 2, False): -0.40476190476190477, (19, 10, True): -0.7021276595744679, (20, 6, False): -0.15596330275229356, (12, 7, False): -0.45783132530120485, (16, 8, False): -0.8055555555555552, (13, 5, False): -0.4722222222222225, (13, 7, False): -0.6164383561643834, (18, 10, False): -0.5533980582524272, (20, 4, False): -0.20353982300884962, (17, 7, False): -0.38947368421052625, (12, 7, True): -1.0, (20, 10, True): 0.050847457627118675, (20, 8, False): 0.05607476635514018, (13, 2, False): -0.736842105263158, (16, 10, False): -0.7109634551495023, (14, 3, False): -0.6363636363636362, (16, 1, False): -0.7816091954022988, (15, 6, False): -0.37499999999999994, (12, 6, False): -0.5156249999999998, (15, 4, False): -0.6, (20, 7, False): 0.007575757575757568, (13, 10, False): -0.682170542635659, (17, 4, False): -0.38636363636363624, (17, 8, True): -1.4166666666666667, (17, 9, False): -0.5285714285714287, (17, 8, False): -0.5441176470588236, (16, 4, False): -0.5368421052631581, (12, 2, False): -0.7037037037037038, (16, 10, True): -0.8076923076923077, (16, 5, False): -0.3623188405797103, (12, 9, True): 1.0, (19, 6, True): 0.24999999999999994, (20, 8, True): 1.375, (19, 4, False): -0.3709677419354838, (12, 4, False): -0.3943661971830987, (18, 9, False): -0.39436619718309857, (12, 3, False): -0.5641025641025639, (13, 9, False): -0.6444444444444445, (18, 8, False): -0.1406250000000001, (15, 2, False): -0.6271186440677965, (13, 10, True): -0.34375, (18, 4, True): 1.2727272727272727, (17, 1, False): -0.6285714285714284, (12, 8, False): -0.6538461538461536, (18, 4, False): -0.28169014084507044, (17, 2, False): -0.5324675324675325, (14, 4, False): -0.3709677419354839, (21, 1, True): 0.46428571428571436, (15, 5, False): -0.40322580645161293, (17, 5, False): -0.275, (14, 5, False): -0.518987341772152, (21, 8, False): 0.10416666666666667, (12, 9, False): -0.4342105263157896, (13, 6, True): -0.8000000000000003, (13, 3, False): -0.5714285714285713, (13, 8, False): -0.5000000000000002, (13, 2, True): 0.19999999999999998, (21, 5, False): -0.08000000000000003, (17, 10, True): -1.096774193548387, (14, 8, False): -0.7042253521126759, (14, 2, False): -0.3333333333333334, (21, 7, True): 0.6896551724137931, (21, 2, False): -2.0816681711721685e-17, (12, 5, True): -1.3333333333333333, (19, 7, False): 0.026666666666666717, (13, 5, True): -0.5, (19, 6, False): 0.04615384615384614, (20, 3, False): -0.13392857142857142, (20, 2, False): -0.1212121212121212, (19, 3, False): -0.25, (21, 10, True): 0.5535714285714284, (13, 3, True): 1.0, (16, 7, False): -0.5600000000000003, (19, 8, True): -1.0, (12, 5, False): -0.30508474576271194, (13, 4, False): -0.5384615384615384, (15, 10, True): -0.8095238095238095, (19, 2, True): -0.75, (15, 3, False): -0.5555555555555552, (14, 1, False): -0.8113207547169812, (16, 7, True): -0.28571428571428575, (15, 8, True): -0.8571428571428571, (13, 9, True): -1.6666666666666665, (21, 7, False): 0.06382978723404252, (19, 7, True): 1.2499999999999998, (19, 2, False): 3.469446951953614e-18, (14, 7, False): -0.4461538461538462, (13, 6, False): -0.357142857142857, (12, 4, True): 0.5, (20, 7, True): 0.17647058823529416, (14, 7, True): -2.7755575615628914e-17, (16, 2, True): -0.27272727272727276, (17, 9, True): -0.30000000000000004, (18, 8, True): -1.1666666666666665, (18, 7, True): 0.1, (21, 5, True): 0.49999999999999994, (18, 2, True): -0.75, (14, 3, True): -0.6666666666666666, (17, 5, True): 0.33333333333333337, (21, 3, False): 0.19512195121951215, (12, 10, True): -0.8666666666666666, (15, 8, False): -0.4666666666666668, (17, 1, True): -0.7777777777777778, (14, 2, True): -1.0, (21, 2, True): 0.6666666666666667, (19, 9, True): 0.24999999999999994, (12, 3, True): 0.0, (16, 8, True): -0.4285714285714286, (15, 7, True): -0.8181818181818181, (19, 4, True): -0.8571428571428571, (21, 6, True): 0.7777777777777777, (15, 3, True): -0.5, (17, 3, True): 0.2, (15, 6, True): -1.3333333333333333, (14, 10, True): -1.1724137931034486, (20, 5, True): 0.375, (21, 8, True): 1.3333333333333335, (20, 1, True): 0.09090909090909093, (16, 6, True): -0.3333333333333334, (18, 1, True): -0.3333333333333333, (12, 1, True): -1.0, (21, 9, True): 0.4444444444444444, (20, 3, True): 0.3333333333333333, (16, 1, True): -1.0, (20, 2, True): 0.7777777777777778, (17, 7, True): 0.0, (20, 4, True): 0.09999999999999995, (16, 9, True): -0.7, (15, 1, True): -0.7000000000000002, (15, 4, True): -0.5, (13, 7, True): 3.2, (18, 9, True): -2.7755575615628914e-17, (18, 6, True): -0.25000000000000006, (15, 5, True): -0.7142857142857143, (15, 9, True): -0.4285714285714286, (14, 6, True): 0.0, (17, 2, True): -1.0, (18, 3, True): -0.25, (16, 5, True): -5.551115123125783e-17, (20, 9, True): 0.6, (13, 1, True): -1.2, (16, 3, True): -0.8, (15, 2, True): -1.25, (12, 8, True): 0.3333333333333333, (12, 2, True): 0.5, (19, 5, True): 4.85722573273506e-17, (13, 8, True): -0.75, (14, 4, True): 0.7777777777777778, (14, 1, True): -1.6, (19, 3, True): 0.8, (14, 9, True): -0.3333333333333333, (19, 1, True): -0.5714285714285714, (12, 6, True): 0.0, (14, 5, True): -2.0, (18, 5, True): -0.6666666666666667, (13, 4, True): 0.3333333333333333, (14, 8, True): -1.0})\n"
     ]
    },
    {
     "name": "stderr",
     "output_type": "stream",
     "text": [
      "\n"
     ]
    }
   ],
   "source": [
    "V_10k = mc_importance_sampling(env, RandomBlackjackPolicy(), SimpleBlackjackPolicy(), num_episodes=10000)\n",
    "print(V_10k)"
   ]
  },
  {
   "cell_type": "code",
   "execution_count": null,
   "metadata": {},
   "outputs": [
    {
     "name": "stderr",
     "output_type": "stream",
     "text": [
      "100%|██████████| 10000/10000 [00:00<00:00, 14154.42it/s]\n",
      " 88%|████████▊ | 439269/500000 [00:32<00:04, 12714.74it/s]"
     ]
    }
   ],
   "source": [
    "%%time\n",
    "# Let's run your code one time\n",
    "V_10k = mc_importance_sampling(env, RandomBlackjackPolicy(), SimpleBlackjackPolicy(), num_episodes=10000)\n",
    "V_500k = mc_importance_sampling(env, RandomBlackjackPolicy(), SimpleBlackjackPolicy(), num_episodes=500000)"
   ]
  },
  {
   "cell_type": "markdown",
   "metadata": {},
   "source": [
    "Plot the V function. Do the plots look like what you expected?"
   ]
  },
  {
   "cell_type": "code",
   "execution_count": null,
   "metadata": {},
   "outputs": [],
   "source": [
    "from mpl_toolkits.mplot3d import Axes3D\n",
    "fig = plt.figure()\n",
    "\n",
    "noAce = []\n",
    "withAce = []\n",
    "for key, value in V_10k.items():\n",
    "    if key[2]:\n",
    "        # Take the initial player and dealer scores + calculated win chance (0 = draw, -1 = loss etc)\n",
    "        withAce.append([key[0], key[1], value])\n",
    "    else:\n",
    "        noAce.append([key[0], key[1], value])\n",
    "\n",
    "noAce = np.array(noAce)\n",
    "withAce = np.array(withAce)\n",
    "\n",
    "\n",
    "ax = fig.add_subplot(221, projection='3d')\n",
    "ax.set_title(\"No usable ace, 10k\")\n",
    "# print(noAce[:, 1].shape)\n",
    "# print(noAce[:, 0].shape)\n",
    "# print(noAce[:, 2])\n",
    "ax.plot_trisurf(noAce[:, 1], noAce[:, 0], noAce[:, 2])\n",
    "# ax.set_zlim(-1, 1)\n",
    "ax.set_ylim(10, 21)\n",
    "        \n",
    "ax = fig.add_subplot(222, projection='3d')\n",
    "ax.set_title(\"Usable ace, 10k\")\n",
    "ax.plot_trisurf(withAce[:, 1], withAce[:, 0], withAce[:, 2])  \n",
    "# ax.set_zlim(-1, 1)\n",
    "ax.set_ylim(10, 21)\n",
    "\n",
    "noAce = []\n",
    "withAce = []\n",
    "for key, value in V_500k.items():\n",
    "    if key[2]:\n",
    "        # Take the initial player and dealer scores + calculated win chance (0 = draw, -1 = loss etc)\n",
    "        withAce.append([key[0], key[1], value])\n",
    "    else:\n",
    "        noAce.append([key[0], key[1], value])\n",
    "\n",
    "noAce = np.array(noAce)\n",
    "withAce = np.array(withAce)\n",
    "\n",
    "\n",
    "ax = fig.add_subplot(223, projection='3d')\n",
    "ax.plot_trisurf(noAce[:, 1], noAce[:, 0], noAce[:, 2])\n",
    "ax.set_title(\"No usable ace, 500k\")\n",
    "# ax.set_zlim(-1, 1)\n",
    "ax.set_ylim(10, 21)\n",
    "        \n",
    "ax = fig.add_subplot(224, projection='3d')\n",
    "ax.plot_trisurf(withAce[:, 1], withAce[:, 0], withAce[:, 2])    \n",
    "ax.set_title(\"Usable ace, 500k\")\n",
    "# ax.set_zlim(-1, 1)\n",
    "ax.set_ylim(10, 21)\n",
    "\n",
    "\n",
    "plt.show()"
   ]
  },
  {
   "cell_type": "markdown",
   "metadata": {},
   "source": [
    "If you want to test/submit your solution **restart the kernel, run all cells and submit the mc_autograde.py file into codegrade.**"
   ]
  }
 ],
 "metadata": {
  "celltoolbar": "Create Assignment",
  "kernelspec": {
   "display_name": "Python 3",
   "language": "python",
   "name": "python3"
  },
  "language_info": {
   "codemirror_mode": {
    "name": "ipython",
    "version": 3
   },
   "file_extension": ".py",
   "mimetype": "text/x-python",
   "name": "python",
   "nbconvert_exporter": "python",
   "pygments_lexer": "ipython3",
   "version": "3.7.3"
  }
 },
 "nbformat": 4,
 "nbformat_minor": 2
}
