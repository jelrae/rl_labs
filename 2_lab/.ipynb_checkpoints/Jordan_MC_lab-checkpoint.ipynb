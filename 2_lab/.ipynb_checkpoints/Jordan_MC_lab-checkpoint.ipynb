{
 "cells": [
  {
   "cell_type": "markdown",
   "metadata": {},
   "source": [
    "# Reinforcement Learning - Monte Carlo\n",
    "If you want to test/submit your solution **restart the kernel, run all cells and submit the mc_autograde.py file into codegrade.**"
   ]
  },
  {
   "cell_type": "code",
   "execution_count": 1,
   "metadata": {},
   "outputs": [],
   "source": [
    "# This cell imports %%execwritefile command (executes cell and writes it into file). \n",
    "# All cells that start with %%execwritefile should be in mc_autograde.py file after running all cells.\n",
    "from custommagics import CustomMagics\n",
    "get_ipython().register_magics(CustomMagics)"
   ]
  },
  {
   "cell_type": "code",
   "execution_count": 2,
   "metadata": {},
   "outputs": [
    {
     "name": "stdout",
     "output_type": "stream",
     "text": [
      "Overwriting mc_autograde.py\n"
     ]
    }
   ],
   "source": [
    "%%execwritefile mc_autograde.py\n",
    "import numpy as np\n",
    "from collections import defaultdict\n",
    "from tqdm import tqdm as _tqdm\n",
    "\n",
    "def tqdm(*args, **kwargs):\n",
    "    return _tqdm(*args, **kwargs, mininterval=1)  # Safety, do not overflow buffer"
   ]
  },
  {
   "cell_type": "code",
   "execution_count": 3,
   "metadata": {},
   "outputs": [],
   "source": [
    "import matplotlib.pyplot as plt\n",
    "import sys\n",
    "\n",
    "\n",
    "%matplotlib inline\n",
    "\n",
    "assert sys.version_info[:3] >= (3, 6, 0), \"Make sure you have Python 3.6 installed!\""
   ]
  },
  {
   "cell_type": "markdown",
   "metadata": {
    "nbgrader": {
     "grade": false,
     "grade_id": "cell-7ab207a9f93cf4d3",
     "locked": true,
     "schema_version": 1,
     "solution": false
    }
   },
   "source": [
    "## 1. Monte Carlo Prediction"
   ]
  },
  {
   "cell_type": "markdown",
   "metadata": {
    "nbgrader": {
     "grade": false,
     "grade_id": "cell-5f0c1d608436b67b",
     "locked": true,
     "schema_version": 1,
     "solution": false
    }
   },
   "source": [
    "For the Monte Carlo Prediction we will look at the Blackjack game (Example 5.1 from the book), for which the `BlackjackEnv` is implemented in `blackjack.py`. Note that compared to the gridworld, the state is no longer a single integer, which is why we use a dictionary to represent the value function instead of a numpy array. By using `defaultdict`, each state gets a default value of 0."
   ]
  },
  {
   "cell_type": "code",
   "execution_count": 4,
   "metadata": {
    "nbgrader": {
     "grade": false,
     "grade_id": "cell-a342b69fcfdea5b2",
     "locked": true,
     "schema_version": 1,
     "solution": false
    }
   },
   "outputs": [],
   "source": [
    "from blackjack import BlackjackEnv\n",
    "env = BlackjackEnv()"
   ]
  },
  {
   "cell_type": "markdown",
   "metadata": {},
   "source": [
    "For the Monte Carlo algorithm, we no longer have transition probabilities and we need to *interact* with the environment. This means that we start an episode by using `env.reset` and send the environment actions via `env.step` to observe the reward and next observation (state)."
   ]
  },
  {
   "cell_type": "code",
   "execution_count": 5,
   "metadata": {
    "nbgrader": {
     "grade": false,
     "grade_id": "cell-85356add2643980e",
     "locked": true,
     "schema_version": 1,
     "solution": false
    }
   },
   "outputs": [],
   "source": [
    "# So let's have a look at what we can do in general with an environment...\n",
    "import gym\n",
    "?gym.Env"
   ]
  },
  {
   "cell_type": "code",
   "execution_count": 6,
   "metadata": {
    "nbgrader": {
     "grade": false,
     "grade_id": "cell-251b7b17c5d08a24",
     "locked": true,
     "schema_version": 1,
     "solution": false
    }
   },
   "outputs": [],
   "source": [
    "# We can also look at the documentation/implementation of a method\n",
    "?env.step"
   ]
  },
  {
   "cell_type": "code",
   "execution_count": 7,
   "metadata": {
    "nbgrader": {
     "grade": false,
     "grade_id": "cell-6decb2ab83c5bcec",
     "locked": true,
     "schema_version": 1,
     "solution": false
    }
   },
   "outputs": [],
   "source": [
    "??BlackjackEnv"
   ]
  },
  {
   "cell_type": "markdown",
   "metadata": {
    "nbgrader": {
     "grade": false,
     "grade_id": "cell-ae161126d3cb1b7b",
     "locked": true,
     "schema_version": 1,
     "solution": false
    }
   },
   "source": [
    "A very simple policy for Blackjack is to *stick* if we have 20 or 21 points and *hit* otherwise. We want to know how good this policy is. This policy is *deterministic* and therefore a function that maps an observation to a single action. Technically, we can implement this as a dictionary , a function or a class with a function, where we use the last option. Moreover, it is often useful (as you will see later) to implement a function that returns  the probability $\\pi(a|s)$ for the state action pair (the probability that this policy would perform certain action in given state). We group these two functions in a policy class. To get started, let's implement this simple policy for BlackJack."
   ]
  },
  {
   "cell_type": "code",
   "execution_count": 8,
   "metadata": {
    "nbgrader": {
     "grade": false,
     "grade_id": "cell-9fdcb503df9cdb08",
     "locked": false,
     "schema_version": 1,
     "solution": true
    }
   },
   "outputs": [
    {
     "name": "stdout",
     "output_type": "stream",
     "text": [
      "Appending to mc_autograde.py\n"
     ]
    }
   ],
   "source": [
    "%%execwritefile -a mc_autograde.py\n",
    "\n",
    "class SimpleBlackjackPolicy(object):\n",
    "    \"\"\"\n",
    "    A simple BlackJack policy that sticks with 20 or 21 points and hits otherwise.\n",
    "    \"\"\"\n",
    "    def get_probs(self, states, actions):\n",
    "        \"\"\"\n",
    "        This method takes a list of states and a list of actions and returns a numpy array that contains a probability\n",
    "        of perfoming action in given state for every corresponding state action pair. \n",
    "\n",
    "        Args:\n",
    "            states: a list of states.\n",
    "            actions: a list of actions.\n",
    "\n",
    "        Returns:\n",
    "            Numpy array filled with probabilities (same length as states and actions)\n",
    "        \"\"\"\n",
    "        probs = []\n",
    "        for state, action in zip(states, actions):\n",
    "            policyaction = self.sample_action(state)\n",
    "            probs.append(float(policyaction == action))\n",
    "        \n",
    "        return np.array(probs)\n",
    "    \n",
    "    def sample_action(self, state):\n",
    "        \"\"\"\n",
    "        This method takes a state as input and returns an action sampled from this policy.  \n",
    "\n",
    "        Args:\n",
    "            state: current state\n",
    "\n",
    "        Returns:\n",
    "            An action (int).\n",
    "        \"\"\"\n",
    "        if state[0] == 20 or state[0] == 21:\n",
    "            return 0\n",
    "        return 1"
   ]
  },
  {
   "cell_type": "code",
   "execution_count": 9,
   "metadata": {
    "nbgrader": {
     "grade": true,
     "grade_id": "cell-99f02e2d9b338a5b",
     "locked": true,
     "points": 1,
     "schema_version": 1,
     "solution": false
    }
   },
   "outputs": [
    {
     "name": "stdout",
     "output_type": "stream",
     "text": [
      "State: (16, 1, False)\n",
      "Sampled Action: 1\n",
      "Probabilities [stick, hit]: [0. 1.]\n"
     ]
    }
   ],
   "source": [
    "# Let's check if it makes sense\n",
    "env = BlackjackEnv()\n",
    "s = env.reset()\n",
    "policy = SimpleBlackjackPolicy()\n",
    "print(\"State: {}\\nSampled Action: {}\\nProbabilities [stick, hit]: {}\".format(s, policy.sample_action(s), policy.get_probs([s,s],[0,1])))"
   ]
  },
  {
   "cell_type": "markdown",
   "metadata": {},
   "source": [
    "Since there are multiple algorithms which require data from single episode (or multiple episodes) it is often useful to write a routine that will sample a single episode. This will save us some time later. Implement a *sample_episode* function which uses environment and policy to sample a single episode."
   ]
  },
  {
   "cell_type": "code",
   "execution_count": 11,
   "metadata": {},
   "outputs": [
    {
     "name": "stdout",
     "output_type": "stream",
     "text": [
      "Appending to mc_autograde.py\n"
     ]
    }
   ],
   "source": [
    "%%execwritefile -a mc_autograde.py\n",
    "\n",
    "def sample_episode(env, policy):\n",
    "    \"\"\"\n",
    "    A sampling routine. Given environment and a policy samples one episode and returns states, actions, rewards\n",
    "    and dones from environment's step function and policy's sample_action function as lists.\n",
    "\n",
    "    Args:\n",
    "        env: OpenAI gym environment.\n",
    "        policy: A policy which allows us to sample actions with its sample_action method.\n",
    "\n",
    "    Returns:\n",
    "        Tuple of lists (states, actions, rewards, dones). All lists should have same length. \n",
    "        Hint: Do not include the state after the termination in the list of states.\n",
    "    \"\"\"\n",
    "    states = []\n",
    "    actions = []\n",
    "    rewards = []\n",
    "    dones = []\n",
    "    \n",
    "    states.append(env.reset())\n",
    "    t = 0\n",
    "    while True:\n",
    "        a = policy.sample_action(states[t])\n",
    "        sp, r, done, _ = env.step(a)\n",
    "        \n",
    "        actions.append(a)\n",
    "        rewards.append(r)\n",
    "        dones.append(done)\n",
    "        if done:\n",
    "            break\n",
    "        \n",
    "        states.append(sp)\n",
    "        t += 1\n",
    "    #TODO Should this be a tuple?  like (states, actions, rewards, dones)\n",
    "    return states, actions, rewards, dones"
   ]
  },
  {
   "cell_type": "code",
   "execution_count": 12,
   "metadata": {},
   "outputs": [
    {
     "name": "stdout",
     "output_type": "stream",
     "text": [
      "Episode 0:\n",
      "States [(21, 10, False)]\n",
      "Actions [0]\n",
      "Rewards [1]\n",
      "Dones [True]\n",
      "\n",
      "Episode 1:\n",
      "States [(17, 4, False)]\n",
      "Actions [1]\n",
      "Rewards [-1]\n",
      "Dones [True]\n",
      "\n",
      "Episode 2:\n",
      "States [(12, 10, False), (16, 10, False)]\n",
      "Actions [1, 1]\n",
      "Rewards [0, -1]\n",
      "Dones [False, True]\n",
      "\n"
     ]
    }
   ],
   "source": [
    "# Let's sample some episodes\n",
    "env = BlackjackEnv()\n",
    "policy = SimpleBlackjackPolicy()\n",
    "for episode in range(3):\n",
    "    trajectory_data = sample_episode(env, policy)\n",
    "    print(\"Episode {}:\\nStates {}\\nActions {}\\nRewards {}\\nDones {}\\n\".format(episode,*trajectory_data))"
   ]
  },
  {
   "cell_type": "markdown",
   "metadata": {
    "nbgrader": {
     "grade": false,
     "grade_id": "cell-0184f4c719afb98c",
     "locked": true,
     "schema_version": 1,
     "solution": false
    }
   },
   "source": [
    "Now implement the MC prediction algorithm (either first visit or every visit). Hint: you can use `for i in tqdm(range(num_episodes))` to show a progress bar. Use the sampling function from above to sample data from a single episode."
   ]
  },
  {
   "cell_type": "code",
   "execution_count": 13,
   "metadata": {},
   "outputs": [
    {
     "name": "stdout",
     "output_type": "stream",
     "text": [
      "Appending to mc_autograde.py\n"
     ]
    }
   ],
   "source": [
    "%%execwritefile -a mc_autograde.py\n",
    "\n",
    "def mc_prediction(env, policy, num_episodes, discount_factor=1.0, sampling_function=sample_episode):\n",
    "    \"\"\"\n",
    "    Monte Carlo prediction algorithm. Calculates the value function\n",
    "    for a given policy using sampling.\n",
    "    \n",
    "    Args:\n",
    "        env: OpenAI gym environment.\n",
    "        policy: A policy which allows us to sample actions with its sample_action method.\n",
    "        num_episodes: Number of episodes to sample.\n",
    "        discount_factor: Gamma discount factor.\n",
    "        sampling_function: Function that generates data from one episode.\n",
    "    \n",
    "    Returns:\n",
    "        A dictionary that maps from state -> value.\n",
    "        The state is a tuple and the value is a float.\n",
    "    \"\"\"\n",
    "\n",
    "    # Keeps track of current V and count of returns for each state\n",
    "    # to calculate an update.\n",
    "    V = defaultdict(float)\n",
    "    \n",
    "    returns = defaultdict(list)\n",
    "    \n",
    "    returns_count = defaultdict(float)\n",
    "    \n",
    "    for i in tqdm(range(num_episodes)):\n",
    "        S = []\n",
    "        states, actions, rewards, dones = sampling_function(env, policy)\n",
    "        \n",
    "        G = 0\n",
    "        for idx in range(len(states) - 1, -1, -1):\n",
    "            G = discount_factor * G + rewards[idx]\n",
    "            \n",
    "            s = states[idx]\n",
    "            if s not in S:\n",
    "                S.append(s)\n",
    "                returns[s].append(G)\n",
    "                V[s] = sum(returns[s])/len(returns[s])\n",
    "                \n",
    "    return V"
   ]
  },
  {
   "cell_type": "code",
   "execution_count": 14,
   "metadata": {},
   "outputs": [
    {
     "name": "stderr",
     "output_type": "stream",
     "text": [
      "100%|██████████| 10000/10000 [00:00<00:00, 20013.80it/s]"
     ]
    },
    {
     "name": "stdout",
     "output_type": "stream",
     "text": [
      "defaultdict(<class 'float'>, {(21, 10, False): 0.8636363636363636, (16, 10, False): -0.7112676056338029, (16, 10, True): -0.3076923076923077, (20, 10, True): 0.4657534246575342, (18, 10, False): -0.7002398081534772, (14, 10, False): -0.5866336633663366, (19, 9, False): -0.7796610169491526, (13, 9, False): -0.47619047619047616, (17, 8, False): -0.6274509803921569, (19, 8, False): -0.7716535433070866, (13, 8, False): -0.5392156862745098, (14, 5, False): -0.6923076923076923, (12, 5, False): -0.49514563106796117, (17, 10, False): -0.7039800995024875, (13, 10, False): -0.5710455764075067, (15, 10, False): -0.7052341597796143, (16, 5, False): -0.7117117117117117, (13, 6, False): -0.5882352941176471, (12, 6, False): -0.7236842105263158, (15, 5, False): -0.7142857142857143, (15, 7, False): -0.6210526315789474, (16, 1, False): -0.5904761904761905, (12, 1, False): -0.6057692307692307, (20, 10, False): 0.4413793103448276, (19, 7, False): -0.7168141592920354, (16, 7, False): -0.5841584158415841, (15, 10, True): -0.24390243902439024, (19, 10, False): -0.7981438515081206, (20, 5, False): 0.6604938271604939, (17, 5, False): -0.717948717948718, (21, 5, True): 0.94, (21, 8, False): 0.8666666666666667, (16, 8, False): -0.66, (19, 1, False): -0.7181818181818181, (20, 8, False): 0.8623188405797102, (20, 7, False): 0.7428571428571429, (17, 7, False): -0.6767676767676768, (19, 2, False): -0.6964285714285714, (13, 2, False): -0.7272727272727273, (19, 4, False): -0.7757009345794392, (15, 4, False): -0.6344086021505376, (13, 4, False): -0.42696629213483145, (12, 10, False): -0.5587301587301587, (21, 9, False): 0.9880952380952381, (12, 9, False): -0.5444444444444444, (17, 2, False): -0.6991150442477876, (14, 2, False): -0.5520833333333334, (12, 2, False): -0.691358024691358, (19, 2, True): -0.3, (18, 7, False): -0.6666666666666666, (17, 5, True): -0.68, (14, 5, True): -0.06666666666666667, (20, 9, False): 0.7716049382716049, (18, 8, False): -0.6666666666666666, (16, 6, False): -0.7471264367816092, (14, 6, False): -0.6633663366336634, (19, 5, False): -0.78125, (18, 5, False): -0.7719298245614035, (13, 5, False): -0.6372549019607843, (20, 4, False): 0.653179190751445, (16, 4, False): -0.6813186813186813, (20, 5, True): 0.7, (12, 4, False): -0.6304347826086957, (15, 2, False): -0.6756756756756757, (14, 7, False): -0.6, (14, 7, True): -0.42857142857142855, (18, 3, False): -0.7978723404255319, (21, 1, False): 0.6206896551724138, (15, 1, False): -0.6262626262626263, (14, 1, False): -0.5531914893617021, (19, 6, False): -0.7280701754385965, (19, 10, True): -0.5238095238095238, (18, 4, False): -0.7155963302752294, (17, 6, False): -0.6637168141592921, (20, 1, False): 0.0958904109589041, (18, 1, False): -0.7583333333333333, (14, 4, False): -0.6091954022988506, (19, 4, True): -0.5555555555555556, (20, 6, True): 0.8125, (21, 5, False): 0.8860759493670886, (20, 2, False): 0.7006802721088435, (20, 6, False): 0.5902777777777778, (17, 3, False): -0.75, (15, 6, False): -0.6237623762376238, (17, 9, False): -0.6288659793814433, (21, 6, True): 0.8461538461538461, (16, 9, False): -0.6379310344827587, (16, 4, True): -0.07692307692307693, (16, 5, True): -0.4, (21, 4, False): 0.9104477611940298, (21, 2, False): 0.9090909090909091, (16, 2, False): -0.6936936936936937, (21, 7, False): 0.9324324324324325, (19, 3, False): -0.775, (19, 3, True): -0.4444444444444444, (18, 3, True): -0.5555555555555556, (14, 3, True): -0.42857142857142855, (13, 3, True): -0.3333333333333333, (20, 3, False): 0.5793103448275863, (15, 3, False): -0.6634615384615384, (13, 3, False): -0.5849056603773585, (17, 9, True): -0.25, (14, 9, False): -0.6732673267326733, (21, 10, True): 0.8826530612244898, (12, 7, False): -0.5287356321839081, (17, 4, False): -0.5740740740740741, (13, 7, False): -0.45348837209302323, (14, 8, False): -0.5980392156862745, (21, 8, True): 0.9545454545454546, (21, 3, False): 0.8870967741935484, (16, 3, False): -0.78, (17, 3, True): -0.5882352941176471, (12, 1, True): 0.2, (18, 6, False): -0.7735849056603774, (18, 2, False): -0.7142857142857143, (16, 2, True): -0.625, (21, 1, True): 0.7454545454545455, (17, 10, True): -0.2835820895522388, (12, 10, True): -0.26666666666666666, (20, 1, True): -0.14285714285714285, (12, 3, False): -0.65625, (15, 5, True): -0.2222222222222222, (17, 1, True): 0.07692307692307693, (21, 6, False): 0.8732394366197183, (12, 3, True): -0.8333333333333334, (18, 8, True): -0.4444444444444444, (20, 4, True): 0.8333333333333334, (18, 9, False): -0.6666666666666666, (20, 3, True): 0.6666666666666666, (15, 8, False): -0.5913978494623656, (14, 3, False): -0.6185567010309279, (17, 1, False): -0.7096774193548387, (19, 1, True): -0.4, (16, 1, True): -0.3333333333333333, (17, 7, True): -0.6923076923076923, (13, 10, True): -0.34615384615384615, (20, 9, True): 0.6875, (17, 8, True): -0.1875, (18, 5, True): -0.9, (21, 2, True): 0.8541666666666666, (12, 8, False): -0.5376344086021505, (21, 4, True): 0.8360655737704918, (14, 4, True): -0.04, (19, 5, True): -0.6666666666666666, (14, 10, True): -0.3548387096774194, (21, 3, True): 0.7872340425531915, (13, 8, True): 0.07692307692307693, (16, 9, True): -0.4444444444444444, (13, 4, True): -0.2727272727272727, (16, 6, True): -0.25, (15, 6, True): -0.6363636363636364, (21, 9, True): 0.9591836734693877, (19, 6, True): 0.0, (13, 6, True): -0.25, (13, 9, True): 0.0, (17, 2, True): -0.5625, (12, 4, True): -0.2, (18, 10, True): -0.44776119402985076, (19, 8, True): -0.7333333333333333, (15, 1, True): -0.6428571428571429, (15, 9, False): -0.550561797752809, (20, 7, True): 1.0, (17, 4, True): -0.19047619047619047, (18, 7, True): -0.3333333333333333, (13, 1, False): -0.5230769230769231, (18, 4, True): -0.2, (12, 7, True): 0.3333333333333333, (15, 4, True): 0.125, (14, 8, True): -0.6666666666666666, (17, 6, True): -0.18181818181818182, (18, 2, True): -0.3333333333333333, (12, 2, True): -0.5, (16, 3, True): -0.9230769230769231, (15, 9, True): -0.2857142857142857, (21, 7, True): 0.8888888888888888, (15, 7, True): -0.14285714285714285, (13, 5, True): -0.4, (19, 7, True): -0.07692307692307693, (20, 2, True): 0.6111111111111112, (12, 8, True): 0.0, (16, 8, True): -0.4, (18, 1, True): -0.5833333333333334, (15, 2, True): -0.5384615384615384, (16, 7, True): -0.2, (13, 2, True): -0.625, (18, 9, True): 0.2, (13, 7, True): 0.42857142857142855, (14, 1, True): -0.2, (18, 6, True): -0.42857142857142855, (15, 8, True): -0.5384615384615384, (14, 6, True): 0.0, (20, 8, True): 0.7857142857142857, (12, 9, True): 0.0, (13, 1, True): -0.46153846153846156, (19, 9, True): -0.38461538461538464, (15, 3, True): -0.36363636363636365, (12, 5, True): -0.6, (14, 9, True): 0.0, (14, 2, True): -0.375, (12, 6, True): -1.0})\n"
     ]
    },
    {
     "name": "stderr",
     "output_type": "stream",
     "text": [
      "\n"
     ]
    }
   ],
   "source": [
    "V_10k = mc_prediction(env, SimpleBlackjackPolicy(), num_episodes=10000)\n",
    "print(V_10k)"
   ]
  },
  {
   "cell_type": "markdown",
   "metadata": {
    "nbgrader": {
     "grade": false,
     "grade_id": "cell-9d32f907f180c088",
     "locked": true,
     "schema_version": 1,
     "solution": false
    }
   },
   "source": [
    "Now make *4 plots* like Figure 5.1 in the book. You can either make 3D plots or heatmaps. Make sure that your results look similar to the results in the book. Give your plots appropriate titles, axis labels, etc."
   ]
  },
  {
   "cell_type": "code",
   "execution_count": 15,
   "metadata": {
    "nbgrader": {
     "grade": false,
     "grade_id": "cell-cbaf4d6a0e4c00fa",
     "locked": true,
     "schema_version": 1,
     "solution": false
    }
   },
   "outputs": [
    {
     "name": "stderr",
     "output_type": "stream",
     "text": [
      "100%|██████████| 10000/10000 [00:00<00:00, 20161.91it/s]\n",
      "100%|██████████| 500000/500000 [01:36<00:00, 5179.47it/s] "
     ]
    },
    {
     "name": "stdout",
     "output_type": "stream",
     "text": [
      "CPU times: user 1min 37s, sys: 70.4 ms, total: 1min 37s\n",
      "Wall time: 1min 37s\n"
     ]
    },
    {
     "name": "stderr",
     "output_type": "stream",
     "text": [
      "\n"
     ]
    }
   ],
   "source": [
    "%%time\n",
    "# Let's run your code one time\n",
    "V_10k = mc_prediction(env, SimpleBlackjackPolicy(), num_episodes=10000)\n",
    "V_500k = mc_prediction(env, SimpleBlackjackPolicy(), num_episodes=500000)"
   ]
  },
  {
   "cell_type": "code",
   "execution_count": 16,
   "metadata": {
    "nbgrader": {
     "grade": true,
     "grade_id": "cell-ba046443478aa517",
     "locked": false,
     "points": 2,
     "schema_version": 1,
     "solution": true
    }
   },
   "outputs": [
    {
     "data": {
      "image/png": "[encoded data removed]",
      "text/plain": [
       "<Figure size 432x288 with 4 Axes>"
      ]
     },
     "metadata": {
      "needs_background": "light"
     },
     "output_type": "display_data"
    }
   ],
   "source": [
    "from mpl_toolkits.mplot3d import Axes3D\n",
    "fig = plt.figure()\n",
    "\n",
    "noAce = []\n",
    "withAce = []\n",
    "for key, value in V_10k.items():\n",
    "    if key[2]:\n",
    "        # Take the initial player and dealer scores + calculated win chance (0 = draw, -1 = loss etc)\n",
    "        withAce.append([key[0], key[1], value])\n",
    "    else:\n",
    "        noAce.append([key[0], key[1], value])\n",
    "\n",
    "noAce = np.array(noAce)\n",
    "withAce = np.array(withAce)\n",
    "\n",
    "\n",
    "ax = fig.add_subplot(221, projection='3d')\n",
    "ax.set_title(\"No usable ace, 10k\")\n",
    "ax.plot_trisurf(noAce[:, 1], noAce[:, 0], noAce[:, 2])\n",
    "ax.set_zlim(-1, 1)\n",
    "ax.set_ylim(10, 21)\n",
    "        \n",
    "ax = fig.add_subplot(222, projection='3d')\n",
    "ax.set_title(\"Usable ace, 10k\")\n",
    "ax.plot_trisurf(withAce[:, 1], withAce[:, 0], withAce[:, 2])  \n",
    "ax.set_zlim(-1, 1)\n",
    "ax.set_ylim(10, 21)\n",
    "\n",
    "noAce = []\n",
    "withAce = []\n",
    "for key, value in V_500k.items():\n",
    "    if key[2]:\n",
    "        # Take the initial player and dealer scores + calculated win chance (0 = draw, -1 = loss etc)\n",
    "        withAce.append([key[0], key[1], value])\n",
    "    else:\n",
    "        noAce.append([key[0], key[1], value])\n",
    "\n",
    "noAce = np.array(noAce)\n",
    "withAce = np.array(withAce)\n",
    "\n",
    "\n",
    "ax = fig.add_subplot(223, projection='3d')\n",
    "ax.plot_trisurf(noAce[:, 1], noAce[:, 0], noAce[:, 2])\n",
    "ax.set_title(\"No usable ace, 500k\")\n",
    "ax.set_zlim(-1, 1)\n",
    "ax.set_ylim(10, 21)\n",
    "        \n",
    "ax = fig.add_subplot(224, projection='3d')\n",
    "ax.plot_trisurf(withAce[:, 1], withAce[:, 0], withAce[:, 2])    \n",
    "ax.set_title(\"Usable ace, 500k\")\n",
    "ax.set_zlim(-1, 1)\n",
    "ax.set_ylim(10, 21)\n",
    "\n",
    "\n",
    "plt.show()\n"
   ]
  },
  {
   "cell_type": "markdown",
   "metadata": {},
   "source": [
    "## 2. Off-policy Monte Carlo prediction\n",
    "In real world, it is often beneficial to learn from the experience of others in addition to your own. For example, you can probably infer that running off the cliff with a car is a bad idea if you consider what \"return\" people who have tried it received.\n",
    "\n",
    "Similarly, we can benefit from the experience of other agents in reinforcement learning. In this exercise we will use off-policy monte carlo to estimate the value function of our target policy using the experience from a different behavior policy. Our target policy will be the simple policy defined above (stick if we have *20* or *21* points) and we will use a random policy that randomly chooses to stick or hit (both with 50% probability) as a behavior policy. As a first step, implement a random BlackJack policy."
   ]
  },
  {
   "cell_type": "code",
   "execution_count": 17,
   "metadata": {},
   "outputs": [
    {
     "name": "stdout",
     "output_type": "stream",
     "text": [
      "Appending to mc_autograde.py\n"
     ]
    }
   ],
   "source": [
    "%%execwritefile -a mc_autograde.py\n",
    "\n",
    "class RandomBlackjackPolicy(object):\n",
    "    \"\"\"\n",
    "    A random BlackJack policy.\n",
    "    \"\"\"\n",
    "    def get_probs(self, states, actions):\n",
    "        \"\"\"\n",
    "        This method takes a list of states and a list of actions and returns a numpy array that contains \n",
    "        a probability of perfoming action in given state for every corresponding state action pair. \n",
    "\n",
    "        Args:\n",
    "            states: a list of states.\n",
    "            actions: a list of actions.\n",
    "\n",
    "        Returns:\n",
    "            Numpy array filled with probabilities (same length as states and actions)\n",
    "        \"\"\"\n",
    "        \n",
    "        # I think this might be a bit of a cheat, we might want to make this a bit better.  I.E. I should\n",
    "        \n",
    "        return np.zeros(len(states)) + 0.5\n",
    "    \n",
    "    def sample_action(self, state):\n",
    "        \"\"\"\n",
    "        This method takes a state as input and returns an action sampled from this policy.  \n",
    "\n",
    "        Args:\n",
    "            state: current state\n",
    "\n",
    "        Returns:\n",
    "            An action (int).\n",
    "        \"\"\"\n",
    "        return np.random.choice(a=[0, 1])\n"
   ]
  },
  {
   "cell_type": "code",
   "execution_count": 18,
   "metadata": {},
   "outputs": [
    {
     "name": "stdout",
     "output_type": "stream",
     "text": [
      "State: (16, 10, False)\n",
      "Sampled Action: 1\n",
      "Probabilities [stick, hit]: [0.5 0.5]\n"
     ]
    }
   ],
   "source": [
    "# Let's check if it makes sense\n",
    "env = BlackjackEnv()\n",
    "s = env.reset()\n",
    "policy = RandomBlackjackPolicy()\n",
    "print(\"State: {}\\nSampled Action: {}\\nProbabilities [stick, hit]: {}\".format(s, policy.sample_action(s), policy.get_probs([s,s],[0,1])))"
   ]
  },
  {
   "cell_type": "markdown",
   "metadata": {},
   "source": [
    "Now implement the MC prediction algorithm with ordinary importance sampling. Use the sampling function from above to sample data from a single episode.\n",
    "\n",
    "Hint: Get probs functions may be handy. You can use `for i in tqdm(range(num_episodes))` to show a progress bar."
   ]
  },
  {
   "cell_type": "code",
   "execution_count": 135,
   "metadata": {},
   "outputs": [
    {
     "name": "stdout",
     "output_type": "stream",
     "text": [
      "Appending to mc_autograde.py\n"
     ]
    }
   ],
   "source": [
    "%%execwritefile -a mc_autograde.py\n",
    "\n",
    "def mc_importance_sampling(env, behavior_policy, target_policy, num_episodes, discount_factor=1.0,\n",
    "                           sampling_function=sample_episode):\n",
    "    \"\"\"\n",
    "    Monte Carlo prediction algorithm. Calculates the value function\n",
    "    for a given target policy using behavior policy and ordinary importance sampling.\n",
    "    \n",
    "    Args:\n",
    "        env: OpenAI gym environment.\n",
    "        behavior_policy: A policy used to collect the data.\n",
    "        target_policy: A policy which value function we want to estimate.\n",
    "        num_episodes: Number of episodes to sample.\n",
    "        discount_factor: Gamma discount factor.\n",
    "        sampling_function: Function that generates data from one episode.\n",
    "    \n",
    "    Returns:\n",
    "        A dictionary that maps from state -> value.\n",
    "        The state is a tuple and the value is a float.\n",
    "    \"\"\"\n",
    "    \n",
    "    # Keeps track of current V and count of returns for each state\n",
    "    # to calculate an update.\n",
    "    V = defaultdict(float)\n",
    "    returns_count = defaultdict(float)\n",
    "    \n",
    "    pi = target_policy.get_probs(range(0,22),)\n",
    "    b = behavior_policy.get_probs(range(0,22))\n",
    "    \n",
    "    for i in range(num_episodes):\n",
    "        S = []\n",
    "        states, actions, rewards, dones = sampling_function(env, behavior_policy)\n",
    "        \n",
    "        \n",
    "#         states, acti    \n",
    "    #     V = defaultdict(float)\n",
    "#     C = defaultdict(float)\n",
    "    \n",
    "    \n",
    "#     returns = defaultdict(list)\n",
    "    \n",
    "    \n",
    "#     returns_count = defaultdict(float)\n",
    "    \n",
    "#     for i in range(num_episodes):\n",
    "#         S = []\n",
    "#         states, actions, rewards, dones = sampling_function(env, behavior_policy)\n",
    "#         G = 0\n",
    "#         W = 1\n",
    "        \n",
    "#         for idx in range(len(states) - 1, 0, -1):\n",
    "#             G = discount_factor * G + rewards[idx]            \n",
    "#             s = states[idx]\n",
    "#             a = actions[idx]\n",
    "            \n",
    "#             C[s] = C[s] + W\n",
    "            \n",
    "#             if s not in S:\n",
    "#                 S.append(s)\n",
    "#                 returns[s].append(G)\n",
    "#                 V[s] = sum(returns[s])/len(returns[s])\n",
    "                \n",
    "    return V"
   ]
  },
  {
   "cell_type": "code",
   "execution_count": 136,
   "metadata": {},
   "outputs": [
    {
     "ename": "NameError",
     "evalue": "name 'V' is not defined",
     "output_type": "error",
     "traceback": [
      "\u001b[0;31m---------------------------------------------------------------------------\u001b[0m",
      "\u001b[0;31mNameError\u001b[0m                                 Traceback (most recent call last)",
      "\u001b[0;32m<ipython-input-136-f5f8c80a95c3>\u001b[0m in \u001b[0;36m<module>\u001b[0;34m\u001b[0m\n\u001b[0;32m----> 1\u001b[0;31m \u001b[0mV_10k\u001b[0m \u001b[0;34m=\u001b[0m \u001b[0mmc_importance_sampling\u001b[0m\u001b[0;34m(\u001b[0m\u001b[0menv\u001b[0m\u001b[0;34m,\u001b[0m \u001b[0mRandomBlackjackPolicy\u001b[0m\u001b[0;34m(\u001b[0m\u001b[0;34m)\u001b[0m\u001b[0;34m,\u001b[0m \u001b[0mSimpleBlackjackPolicy\u001b[0m\u001b[0;34m(\u001b[0m\u001b[0;34m)\u001b[0m\u001b[0;34m,\u001b[0m \u001b[0mnum_episodes\u001b[0m\u001b[0;34m=\u001b[0m\u001b[0;36m10000\u001b[0m\u001b[0;34m)\u001b[0m\u001b[0;34m\u001b[0m\u001b[0;34m\u001b[0m\u001b[0m\n\u001b[0m\u001b[1;32m      2\u001b[0m \u001b[0mprint\u001b[0m\u001b[0;34m(\u001b[0m\u001b[0mV_10k\u001b[0m\u001b[0;34m)\u001b[0m\u001b[0;34m\u001b[0m\u001b[0;34m\u001b[0m\u001b[0m\n",
      "\u001b[0;32m<ipython-input-135-1ecbf12ba2db>\u001b[0m in \u001b[0;36mmc_importance_sampling\u001b[0;34m(env, behavior_policy, target_policy, num_episodes, discount_factor, sampling_function)\u001b[0m\n\u001b[1;32m     50\u001b[0m \u001b[0;31m#                 V[s] = sum(returns[s])/len(returns[s])\u001b[0m\u001b[0;34m\u001b[0m\u001b[0;34m\u001b[0m\u001b[0;34m\u001b[0m\u001b[0m\n\u001b[1;32m     51\u001b[0m \u001b[0;34m\u001b[0m\u001b[0m\n\u001b[0;32m---> 52\u001b[0;31m     \u001b[0;32mreturn\u001b[0m \u001b[0mV\u001b[0m\u001b[0;34m\u001b[0m\u001b[0;34m\u001b[0m\u001b[0m\n\u001b[0m",
      "\u001b[0;31mNameError\u001b[0m: name 'V' is not defined"
     ]
    }
   ],
   "source": [
    "V_10k = mc_importance_sampling(env, RandomBlackjackPolicy(), SimpleBlackjackPolicy(), num_episodes=10000)\n",
    "print(V_10k)"
   ]
  },
  {
   "cell_type": "code",
   "execution_count": null,
   "metadata": {},
   "outputs": [],
   "source": [
    "%%time\n",
    "# Let's run your code one time\n",
    "V_10k = mc_importance_sampling(env, RandomBlackjackPolicy(), SimpleBlackjackPolicy(), num_episodes=10000)\n",
    "V_500k = mc_importance_sampling(env, RandomBlackjackPolicy(), SimpleBlackjackPolicy(), num_episodes=500000)"
   ]
  },
  {
   "cell_type": "markdown",
   "metadata": {},
   "source": [
    "Plot the V function. Do the plots look like what you expected?"
   ]
  },
  {
   "cell_type": "code",
   "execution_count": null,
   "metadata": {},
   "outputs": [],
   "source": [
    "# YOUR CODE HERE\n",
    "raise NotImplementedError"
   ]
  },
  {
   "cell_type": "markdown",
   "metadata": {},
   "source": [
    "If you want to test/submit your solution **restart the kernel, run all cells and submit the mc_autograde.py file into codegrade.**"
   ]
  }
 ],
 "metadata": {
  "celltoolbar": "Create Assignment",
  "kernelspec": {
   "display_name": "Python 3",
   "language": "python",
   "name": "python3"
  },
  "language_info": {
   "codemirror_mode": {
    "name": "ipython",
    "version": 3
   },
   "file_extension": ".py",
   "mimetype": "text/x-python",
   "name": "python",
   "nbconvert_exporter": "python",
   "pygments_lexer": "ipython3",
   "version": "3.7.3"
  }
 },
 "nbformat": 4,
 "nbformat_minor": 2
}
