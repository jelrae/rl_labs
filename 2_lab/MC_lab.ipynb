{
 "cells": [
  {
   "cell_type": "markdown",
   "metadata": {},
   "source": [
    "# Reinforcement Learning - Monte Carlo\n",
    "If you want to test/submit your solution **restart the kernel, run all cells and submit the mc_autograde.py file into codegrade.**"
   ]
  },
  {
   "cell_type": "code",
   "execution_count": 1,
   "metadata": {},
   "outputs": [],
   "source": [
    "# This cell imports %%execwritefile command (executes cell and writes it into file). \n",
    "# All cells that start with %%execwritefile should be in mc_autograde.py file after running all cells.\n",
    "from custommagics import CustomMagics\n",
    "get_ipython().register_magics(CustomMagics)"
   ]
  },
  {
   "cell_type": "code",
   "execution_count": 2,
   "metadata": {},
   "outputs": [
    {
     "name": "stdout",
     "output_type": "stream",
     "text": [
      "Writing mc_autograde.py\n"
     ]
    }
   ],
   "source": [
    "%%execwritefile mc_autograde.py\n",
    "import numpy as np\n",
    "from collections import defaultdict\n",
    "from tqdm import tqdm as _tqdm\n",
    "\n",
    "def tqdm(*args, **kwargs):\n",
    "    return _tqdm(*args, **kwargs, mininterval=1)  # Safety, do not overflow buffer"
   ]
  },
  {
   "cell_type": "code",
   "execution_count": 3,
   "metadata": {},
   "outputs": [],
   "source": [
    "import matplotlib.pyplot as plt\n",
    "import sys\n",
    "\n",
    "\n",
    "%matplotlib inline\n",
    "\n",
    "assert sys.version_info[:3] >= (3, 6, 0), \"Make sure you have Python 3.6 installed!\""
   ]
  },
  {
   "cell_type": "markdown",
   "metadata": {
    "nbgrader": {
     "grade": false,
     "grade_id": "cell-7ab207a9f93cf4d3",
     "locked": true,
     "schema_version": 1,
     "solution": false
    }
   },
   "source": [
    "## 1. Monte Carlo Prediction"
   ]
  },
  {
   "cell_type": "markdown",
   "metadata": {
    "nbgrader": {
     "grade": false,
     "grade_id": "cell-5f0c1d608436b67b",
     "locked": true,
     "schema_version": 1,
     "solution": false
    }
   },
   "source": [
    "For the Monte Carlo Prediction we will look at the Blackjack game (Example 5.1 from the book), for which the `BlackjackEnv` is implemented in `blackjack.py`. Note that compared to the gridworld, the state is no longer a single integer, which is why we use a dictionary to represent the value function instead of a numpy array. By using `defaultdict`, each state gets a default value of 0."
   ]
  },
  {
   "cell_type": "code",
   "execution_count": 4,
   "metadata": {
    "nbgrader": {
     "grade": false,
     "grade_id": "cell-a342b69fcfdea5b2",
     "locked": true,
     "schema_version": 1,
     "solution": false
    }
   },
   "outputs": [],
   "source": [
    "from blackjack import BlackjackEnv\n",
    "env = BlackjackEnv()"
   ]
  },
  {
   "cell_type": "markdown",
   "metadata": {},
   "source": [
    "For the Monte Carlo algorithm, we no longer have transition probabilities and we need to *interact* with the environment. This means that we start an episode by using `env.reset` and send the environment actions via `env.step` to observe the reward and next observation (state)."
   ]
  },
  {
   "cell_type": "code",
   "execution_count": 5,
   "metadata": {
    "nbgrader": {
     "grade": false,
     "grade_id": "cell-85356add2643980e",
     "locked": true,
     "schema_version": 1,
     "solution": false
    }
   },
   "outputs": [],
   "source": [
    "# So let's have a look at what we can do in general with an environment...\n",
    "import gym\n",
    "?gym.Env"
   ]
  },
  {
   "cell_type": "code",
   "execution_count": 6,
   "metadata": {
    "nbgrader": {
     "grade": false,
     "grade_id": "cell-251b7b17c5d08a24",
     "locked": true,
     "schema_version": 1,
     "solution": false
    }
   },
   "outputs": [],
   "source": [
    "# We can also look at the documentation/implementation of a method\n",
    "?env.step"
   ]
  },
  {
   "cell_type": "code",
   "execution_count": 7,
   "metadata": {
    "nbgrader": {
     "grade": false,
     "grade_id": "cell-6decb2ab83c5bcec",
     "locked": true,
     "schema_version": 1,
     "solution": false
    }
   },
   "outputs": [],
   "source": [
    "??BlackjackEnv"
   ]
  },
  {
   "cell_type": "markdown",
   "metadata": {
    "nbgrader": {
     "grade": false,
     "grade_id": "cell-ae161126d3cb1b7b",
     "locked": true,
     "schema_version": 1,
     "solution": false
    }
   },
   "source": [
    "A very simple policy for Blackjack is to *stick* if we have 20 or 21 points and *hit* otherwise. We want to know how good this policy is. This policy is *deterministic* and therefore a function that maps an observation to a single action. Technically, we can implement this as a dictionary , a function or a class with a function, where we use the last option. Moreover, it is often useful (as you will see later) to implement a function that returns  the probability $\\pi(a|s)$ for the state action pair (the probability that this policy would perform certain action in given state). We group these two functions in a policy class. To get started, let's implement this simple policy for BlackJack."
   ]
  },
  {
   "cell_type": "code",
   "execution_count": 8,
   "metadata": {
    "nbgrader": {
     "grade": false,
     "grade_id": "cell-9fdcb503df9cdb08",
     "locked": false,
     "schema_version": 1,
     "solution": true
    }
   },
   "outputs": [
    {
     "name": "stdout",
     "output_type": "stream",
     "text": [
      "Appending to mc_autograde.py\n"
     ]
    }
   ],
   "source": [
    "%%execwritefile -a mc_autograde.py\n",
    "\n",
    "class SimpleBlackjackPolicy(object):\n",
    "    \"\"\"\n",
    "    A simple BlackJack policy that sticks with 20 or 21 points and hits otherwise.\n",
    "    \"\"\"\n",
    "    def get_probs(self, states, actions):\n",
    "        \"\"\"\n",
    "        This method takes a list of states and a list of actions and returns a numpy array that contains a probability\n",
    "        of perfoming action in given state for every corresponding state action pair. \n",
    "\n",
    "        Args:\n",
    "            states: a list of states.\n",
    "            actions: a list of actions.\n",
    "\n",
    "        Returns:\n",
    "            Numpy array filled with probabilities (same length as states and actions)\n",
    "        \"\"\"\n",
    "        probs = []\n",
    "        for state in states:\n",
    "            probs.append([self.sample_action(state), 1 - self.sample_action(state)])\n",
    "        \n",
    "        return np.array(probs)\n",
    "    \n",
    "    def sample_action(self, state):\n",
    "        \"\"\"\n",
    "        This method takes a state as input and returns an action sampled from this policy.  \n",
    "\n",
    "        Args:\n",
    "            state: current state\n",
    "\n",
    "        Returns:\n",
    "            An action (int).\n",
    "        \"\"\"\n",
    "        if state[0] == 20 or state[0] == 21:\n",
    "            return 0\n",
    "        return 1"
   ]
  },
  {
   "cell_type": "code",
   "execution_count": 9,
   "metadata": {
    "nbgrader": {
     "grade": true,
     "grade_id": "cell-99f02e2d9b338a5b",
     "locked": true,
     "points": 1,
     "schema_version": 1,
     "solution": false
    }
   },
   "outputs": [
    {
     "name": "stdout",
     "output_type": "stream",
     "text": [
      "State: (17, 10, False)\n",
      "Sampled Action: 1\n",
      "Probabilities [stick, hit]: [[1 0]\n",
      " [1 0]]\n"
     ]
    }
   ],
   "source": [
    "# Let's check if it makes sense\n",
    "env = BlackjackEnv()\n",
    "s = env.reset()\n",
    "policy = SimpleBlackjackPolicy()\n",
    "print(\"State: {}\\nSampled Action: {}\\nProbabilities [stick, hit]: {}\".format(s, policy.sample_action(s), policy.get_probs([s,s],[0,1])))"
   ]
  },
  {
   "cell_type": "markdown",
   "metadata": {},
   "source": [
    "Since there are multiple algorithms which require data from single episode (or multiple episodes) it is often useful to write a routine that will sample a single episode. This will save us some time later. Implement a *sample_episode* function which uses environment and policy to sample a single episode."
   ]
  },
  {
   "cell_type": "code",
   "execution_count": 10,
   "metadata": {},
   "outputs": [
    {
     "name": "stdout",
     "output_type": "stream",
     "text": [
      "Appending to mc_autograde.py\n"
     ]
    }
   ],
   "source": [
    "%%execwritefile -a mc_autograde.py\n",
    "\n",
    "def sample_episode(env, policy):\n",
    "    \"\"\"\n",
    "    A sampling routine. Given environment and a policy samples one episode and returns states, actions, rewards\n",
    "    and dones from environment's step function and policy's sample_action function as lists.\n",
    "\n",
    "    Args:\n",
    "        env: OpenAI gym environment.\n",
    "        policy: A policy which allows us to sample actions with its sample_action method.\n",
    "\n",
    "    Returns:\n",
    "        Tuple of lists (states, actions, rewards, dones). All lists should have same length. \n",
    "        Hint: Do not include the state after the termination in the list of states.\n",
    "    \"\"\"\n",
    "    states = []\n",
    "    actions = []\n",
    "    rewards = []\n",
    "    dones = []\n",
    "    \n",
    "    states.append(env.reset())\n",
    "    t = 0\n",
    "    done = False\n",
    "    while not done:\n",
    "        a = policy.sample_action(states[t])\n",
    "        sp, r, done, _ = env.step(a)\n",
    "        \n",
    "        states.append(sp)\n",
    "        actions.append(a)\n",
    "        rewards.append(r)\n",
    "        dones.append(done)\n",
    "        t += 1\n",
    "    \n",
    "    return states, actions, rewards, dones"
   ]
  },
  {
   "cell_type": "code",
   "execution_count": 11,
   "metadata": {},
   "outputs": [
    {
     "name": "stdout",
     "output_type": "stream",
     "text": [
      "Episode 0:\n",
      "States [(16, 10, False), (17, 10, False), (26, 10, False)]\n",
      "Actions [1, 1]\n",
      "Rewards [0, -1]\n",
      "Dones [False, True]\n",
      "\n",
      "Episode 1:\n",
      "States [(16, 4, True), (19, 4, True), (19, 4, False), (26, 4, False)]\n",
      "Actions [1, 1, 1]\n",
      "Rewards [0, 0, -1]\n",
      "Dones [False, False, True]\n",
      "\n",
      "Episode 2:\n",
      "States [(21, 5, True), (21, 5, True)]\n",
      "Actions [0]\n",
      "Rewards [1]\n",
      "Dones [True]\n",
      "\n"
     ]
    }
   ],
   "source": [
    "# Let's sample some episodes\n",
    "env = BlackjackEnv()\n",
    "policy = SimpleBlackjackPolicy()\n",
    "for episode in range(3):\n",
    "    trajectory_data = sample_episode(env, policy)\n",
    "    print(\"Episode {}:\\nStates {}\\nActions {}\\nRewards {}\\nDones {}\\n\".format(episode,*trajectory_data))"
   ]
  },
  {
   "cell_type": "markdown",
   "metadata": {
    "nbgrader": {
     "grade": false,
     "grade_id": "cell-0184f4c719afb98c",
     "locked": true,
     "schema_version": 1,
     "solution": false
    }
   },
   "source": [
    "Now implement the MC prediction algorithm (either first visit or every visit). Hint: you can use `for i in tqdm(range(num_episodes))` to show a progress bar. Use the sampling function from above to sample data from a single episode."
   ]
  },
  {
   "cell_type": "code",
   "execution_count": 28,
   "metadata": {},
   "outputs": [
    {
     "name": "stdout",
     "output_type": "stream",
     "text": [
      "Appending to mc_autograde.py\n"
     ]
    }
   ],
   "source": [
    "%%execwritefile -a mc_autograde.py\n",
    "\n",
    "def mc_prediction(env, policy, num_episodes, discount_factor=1.0, sampling_function=sample_episode):\n",
    "    \"\"\"\n",
    "    Monte Carlo prediction algorithm. Calculates the value function\n",
    "    for a given policy using sampling.\n",
    "    \n",
    "    Args:\n",
    "        env: OpenAI gym environment.\n",
    "        policy: A policy which allows us to sample actions with its sample_action method.\n",
    "        num_episodes: Number of episodes to sample.\n",
    "        discount_factor: Gamma discount factor.\n",
    "        sampling_function: Function that generates data from one episode.\n",
    "    \n",
    "    Returns:\n",
    "        A dictionary that maps from state -> value.\n",
    "        The state is a tuple and the value is a float.\n",
    "    \"\"\"\n",
    "\n",
    "    # Keeps track of current V and count of returns for each state\n",
    "    # to calculate an update.\n",
    "    V = defaultdict(float)\n",
    "    \n",
    "    returns = defaultdict(list)\n",
    "    returns_count = defaultdict(float)\n",
    "    \n",
    "    for i in range(num_episodes):\n",
    "        S = []\n",
    "        states, actions, rewards, dones = sampling_function(env, policy)\n",
    "        G = 0\n",
    "        R = 0\n",
    "        for idx in range(len(states) - 2, 0, -1):\n",
    "            R += rewards[idx]\n",
    "            G = discount_factor * G + R\n",
    "            \n",
    "            s = states[idx]\n",
    "            if s not in S:\n",
    "                S.append(s)\n",
    "                returns[s].append(G)\n",
    "                V[s] = sum(returns[s])/len(returns[s])\n",
    "                \n",
    "    return V"
   ]
  },
  {
   "cell_type": "code",
   "execution_count": 29,
   "metadata": {},
   "outputs": [
    {
     "name": "stdout",
     "output_type": "stream",
     "text": [
      "defaultdict(<class 'float'>, {(20, 8, False): 0.8852459016393442, (19, 8, False): -0.36231884057971014, (17, 2, False): -0.8157894736842105, (20, 6, True): 0.5, (17, 1, False): -0.6181818181818182, (15, 8, False): 0.18181818181818182, (19, 4, False): -0.6538461538461539, (12, 4, False): -0.7, (21, 10, False): 0.8785425101214575, (19, 10, False): -0.65, (20, 7, False): 0.746268656716418, (17, 6, False): -0.6956521739130435, (21, 5, False): 0.9090909090909091, (17, 10, False): -0.6012269938650306, (18, 10, False): -0.7121951219512195, (19, 2, False): -0.49230769230769234, (21, 8, False): 0.9516129032258065, (17, 8, False): -0.75, (21, 1, False): 0.5818181818181818, (20, 3, False): 0.5409836065573771, (18, 1, True): 0.0, (16, 10, False): -0.6834532374100719, (15, 10, False): -0.6557377049180327, (18, 2, False): -0.5714285714285714, (20, 1, False): 0.10666666666666667, (20, 3, True): 0.5714285714285714, (18, 8, False): -0.4716981132075472, (14, 3, False): -0.72, (14, 10, False): -0.6931818181818182, (12, 10, False): -0.7692307692307693, (20, 10, False): 0.5136186770428015, (19, 3, False): -0.36923076923076925, (14, 4, False): -0.9583333333333334, (20, 4, False): 0.7352941176470589, (17, 4, False): -0.8181818181818182, (13, 10, False): -0.9705882352941176, (14, 10, True): -1.0, (20, 6, False): 0.6515151515151515, (19, 6, False): -0.6379310344827587, (21, 6, False): 0.9436619718309859, (13, 6, False): -0.6111111111111112, (16, 6, True): 1.5, (12, 1, False): -0.75, (15, 4, False): -0.64, (15, 1, False): -0.525, (21, 8, True): 0.6666666666666666, (17, 9, False): -0.5510204081632653, (16, 2, False): -0.5957446808510638, (15, 6, False): -1.0, (20, 9, False): 0.7878787878787878, (13, 4, False): -0.6363636363636364, (16, 6, False): -0.5714285714285714, (18, 1, False): -0.5116279069767442, (14, 1, False): -0.7142857142857143, (20, 10, True): 0.25925925925925924, (16, 3, False): -0.8, (20, 5, False): 0.6222222222222222, (17, 5, False): -0.675, (20, 2, False): 0.7464788732394366, (19, 5, False): -0.8135593220338984, (21, 1, True): 0.3333333333333333, (21, 10, True): 0.9310344827586207, (14, 8, False): -0.9166666666666666, (19, 7, False): -0.6166666666666667, (18, 7, False): -0.671875, (18, 3, False): -0.6785714285714286, (17, 3, False): -0.6122448979591837, (21, 4, False): 0.859375, (21, 3, False): 0.9152542372881356, (20, 5, True): 0.8181818181818182, (21, 2, False): 0.8846153846153846, (19, 1, False): -0.7101449275362319, (19, 10, True): -0.9375, (21, 9, False): 0.9807692307692307, (16, 9, False): -0.6190476190476191, (20, 8, True): 0.8571428571428571, (17, 8, True): -0.6666666666666666, (16, 8, True): -0.5, (15, 8, True): 4.0, (20, 2, True): 0.25, (18, 6, False): -0.36363636363636365, (21, 7, False): 0.8695652173913043, (16, 1, False): -0.9411764705882353, (19, 9, False): -0.6896551724137931, (16, 5, False): -0.9142857142857143, (13, 1, False): -1.25, (15, 9, False): -0.4117647058823529, (18, 5, False): -0.6341463414634146, (17, 7, False): -0.6666666666666666, (16, 8, False): -0.4090909090909091, (17, 10, True): -0.4444444444444444, (18, 9, False): -0.475, (14, 9, False): -0.8076923076923077, (14, 2, False): -0.3181818181818182, (14, 2, True): -3.0, (15, 5, False): -0.96, (14, 5, False): -0.7333333333333333, (13, 5, False): -1.6153846153846154, (17, 5, True): -3.0, (21, 3, True): 1.0, (14, 6, False): -0.9565217391304348, (12, 5, False): -0.7, (16, 10, True): -1.875, (13, 2, False): -0.6111111111111112, (16, 5, True): -1.0, (19, 5, True): -1.2, (16, 7, False): -0.2, (14, 7, False): -1.3478260869565217, (17, 7, True): -1.0, (21, 9, True): 1.0, (16, 3, True): 0.5, (15, 2, False): -0.6666666666666666, (20, 7, True): 0.8461538461538461, (18, 4, False): -0.4634146341463415, (19, 1, True): -1.0, (16, 1, True): -2.5, (13, 8, False): -0.8, (18, 8, True): 0.0, (19, 7, True): -1.0, (19, 9, True): -0.75, (18, 10, True): -0.15384615384615385, (16, 4, False): -0.59375, (12, 2, False): -0.7272727272727273, (13, 7, False): -0.8571428571428571, (21, 7, True): 0.8333333333333334, (19, 4, True): -1.5, (15, 4, True): -1.0, (18, 2, True): 2.0, (12, 3, False): -0.8, (15, 10, True): -0.8333333333333334, (21, 5, True): 1.0, (17, 3, True): -2.4, (12, 6, False): -2.0, (21, 6, True): 0.7142857142857143, (20, 9, True): 0.8181818181818182, (16, 9, True): -1.3333333333333333, (16, 4, True): -2.0, (15, 3, False): -1.0285714285714285, (18, 4, True): -0.6666666666666666, (18, 9, True): 0.125, (19, 8, True): -1.8, (15, 7, False): -0.9411764705882353, (21, 4, True): 1.0, (18, 7, True): -0.4, (17, 6, True): -2.3333333333333335, (17, 9, True): -1.0, (13, 9, False): -1.0, (13, 3, False): 0.15384615384615385, (18, 6, True): -1.0, (15, 6, True): -4.0, (15, 7, True): 1.0, (15, 9, True): 0.5, (16, 2, True): -1.3333333333333333, (12, 7, False): -1.0, (14, 9, True): -0.6666666666666666, (12, 9, False): -0.16666666666666666, (17, 4, True): -2.0, (20, 1, True): -1.0, (17, 2, True): 0.0, (21, 2, True): 0.9, (20, 4, True): 1.0, (12, 8, False): -0.7142857142857143, (15, 3, True): 2.5, (19, 6, True): 0.75, (14, 4, True): -0.5, (13, 10, True): 0.5, (14, 5, True): -3.0, (18, 5, True): 0.0, (14, 7, True): -4.0, (14, 3, True): -3.0, (19, 3, True): 2.6666666666666665, (18, 3, True): 0.25, (13, 3, True): 3.0, (14, 8, True): -4.0, (16, 7, True): 2.0})\n"
     ]
    }
   ],
   "source": [
    "V_10k = mc_prediction(env, SimpleBlackjackPolicy(), num_episodes=10000)\n",
    "print(V_10k)"
   ]
  },
  {
   "cell_type": "markdown",
   "metadata": {
    "nbgrader": {
     "grade": false,
     "grade_id": "cell-9d32f907f180c088",
     "locked": true,
     "schema_version": 1,
     "solution": false
    }
   },
   "source": [
    "Now make *4 plots* like Figure 5.1 in the book. You can either make 3D plots or heatmaps. Make sure that your results look similar to the results in the book. Give your plots appropriate titles, axis labels, etc."
   ]
  },
  {
   "cell_type": "code",
   "execution_count": 43,
   "metadata": {
    "nbgrader": {
     "grade": false,
     "grade_id": "cell-cbaf4d6a0e4c00fa",
     "locked": true,
     "schema_version": 1,
     "solution": false
    }
   },
   "outputs": [
    {
     "name": "stdout",
     "output_type": "stream",
     "text": [
      "CPU times: user 54.1 s, sys: 83.9 ms, total: 54.2 s\n",
      "Wall time: 54.3 s\n"
     ]
    }
   ],
   "source": [
    "%%time\n",
    "# Let's run your code one time\n",
    "V_10k = mc_prediction(env, SimpleBlackjackPolicy(), num_episodes=10000)\n",
    "V_500k = mc_prediction(env, SimpleBlackjackPolicy(), num_episodes=500000)"
   ]
  },
  {
   "cell_type": "code",
   "execution_count": 54,
   "metadata": {
    "nbgrader": {
     "grade": true,
     "grade_id": "cell-ba046443478aa517",
     "locked": false,
     "points": 2,
     "schema_version": 1,
     "solution": true
    }
   },
   "outputs": [
    {
     "data": {
      "image/png": "[encoded data removed]",
      "text/plain": [
       "<Figure size 432x288 with 4 Axes>"
      ]
     },
     "metadata": {
      "needs_background": "light"
     },
     "output_type": "display_data"
    }
   ],
   "source": [
    "from mpl_toolkits.mplot3d import Axes3D\n",
    "fig = plt.figure()\n",
    "\n",
    "noAce = []\n",
    "withAce = []\n",
    "for key, value in V_10k.items():\n",
    "    if key[2]:\n",
    "        # Take the initial player and dealer scores + calculated win chance (0 = draw, -1 = loss etc)\n",
    "        withAce.append([key[0], key[1], value])\n",
    "    else:\n",
    "        noAce.append([key[0], key[1], value])\n",
    "\n",
    "noAce = np.array(noAce)\n",
    "withAce = np.array(withAce)\n",
    "\n",
    "\n",
    "ax = fig.add_subplot(221, projection='3d')\n",
    "ax.set_title(\"No usable ace, 10k\")\n",
    "ax.plot_trisurf(noAce[:, 1], noAce[:, 0], noAce[:, 2])\n",
    "ax.set_zlim(-2, 1)\n",
    "        \n",
    "ax = fig.add_subplot(222, projection='3d')\n",
    "ax.set_title(\"Usable ace, 10k\")\n",
    "ax.plot_trisurf(withAce[:, 1], withAce[:, 0], withAce[:, 2])  \n",
    "ax.set_zlim(-1, 1)\n",
    "\n",
    "noAce = []\n",
    "withAce = []\n",
    "for key, value in V_500k.items():\n",
    "    if key[2]:\n",
    "        # Take the initial player and dealer scores + calculated win chance (0 = draw, -1 = loss etc)\n",
    "        withAce.append([key[0], key[1], value])\n",
    "    else:\n",
    "        noAce.append([key[0], key[1], value])\n",
    "\n",
    "noAce = np.array(noAce)\n",
    "withAce = np.array(withAce)\n",
    "\n",
    "\n",
    "ax = fig.add_subplot(223, projection='3d')\n",
    "ax.plot_trisurf(noAce[:, 1], noAce[:, 0], noAce[:, 2])\n",
    "ax.set_title(\"No usable ace, 500k\")\n",
    "ax.set_zlim(-1, 1)\n",
    "        \n",
    "ax = fig.add_subplot(224, projection='3d')\n",
    "ax.plot_trisurf(withAce[:, 1], withAce[:, 0], withAce[:, 2])    \n",
    "ax.set_title(\"Usable ace, 500k\")\n",
    "ax.set_zlim(-1, 1)\n",
    "\n",
    "\n",
    "plt.show()\n"
   ]
  },
  {
   "cell_type": "markdown",
   "metadata": {},
   "source": [
    "## 2. Off-policy Monte Carlo prediction\n",
    "In real world, it is often beneficial to learn from the experience of others in addition to your own. For example, you can probably infer that running off the cliff with a car is a bad idea if you consider what \"return\" people who have tried it received.\n",
    "\n",
    "Similarly, we can benefit from the experience of other agents in reinforcement learning. In this exercise we will use off-policy monte carlo to estimate the value function of our target policy using the experience from a different behavior policy. Our target policy will be the simple policy defined above (stick if we have *20* or *21* points) and we will use a random policy that randomly chooses to stick or hit (both with 50% probability) as a behavior policy. As a first step, implement a random BlackJack policy."
   ]
  },
  {
   "cell_type": "code",
   "execution_count": null,
   "metadata": {},
   "outputs": [],
   "source": [
    "%%execwritefile -a mc_autograde.py\n",
    "\n",
    "class RandomBlackjackPolicy(object):\n",
    "    \"\"\"\n",
    "    A random BlackJack policy.\n",
    "    \"\"\"\n",
    "    def get_probs(self, states, actions):\n",
    "        \"\"\"\n",
    "        This method takes a list of states and a list of actions and returns a numpy array that contains \n",
    "        a probability of perfoming action in given state for every corresponding state action pair. \n",
    "\n",
    "        Args:\n",
    "            states: a list of states.\n",
    "            actions: a list of actions.\n",
    "\n",
    "        Returns:\n",
    "            Numpy array filled with probabilities (same length as states and actions)\n",
    "        \"\"\"\n",
    "        # YOUR CODE HERE\n",
    "        raise NotImplementedError\n",
    "        return probs\n",
    "    \n",
    "    def sample_action(self, state):\n",
    "        \"\"\"\n",
    "        This method takes a state as input and returns an action sampled from this policy.  \n",
    "\n",
    "        Args:\n",
    "            state: current state\n",
    "\n",
    "        Returns:\n",
    "            An action (int).\n",
    "        \"\"\"\n",
    "        # YOUR CODE HERE\n",
    "        raise NotImplementedError\n",
    "        return action\n"
   ]
  },
  {
   "cell_type": "code",
   "execution_count": null,
   "metadata": {},
   "outputs": [],
   "source": [
    "# Let's check if it makes sense\n",
    "env = BlackjackEnv()\n",
    "s = env.reset()\n",
    "policy = RandomBlackjackPolicy()\n",
    "print(\"State: {}\\nSampled Action: {}\\nProbabilities [stick, hit]: {}\".format(s, policy.sample_action(s), policy.get_probs([s,s],[0,1])))"
   ]
  },
  {
   "cell_type": "markdown",
   "metadata": {},
   "source": [
    "Now implement the MC prediction algorithm with ordinary importance sampling. Use the sampling function from above to sample data from a single episode.\n",
    "\n",
    "Hint: Get probs functions may be handy. You can use `for i in tqdm(range(num_episodes))` to show a progress bar."
   ]
  },
  {
   "cell_type": "code",
   "execution_count": null,
   "metadata": {},
   "outputs": [],
   "source": [
    "%%execwritefile -a mc_autograde.py\n",
    "\n",
    "def mc_importance_sampling(env, behavior_policy, target_policy, num_episodes, discount_factor=1.0,\n",
    "                           sampling_function=sample_episode):\n",
    "    \"\"\"\n",
    "    Monte Carlo prediction algorithm. Calculates the value function\n",
    "    for a given target policy using behavior policy and ordinary importance sampling.\n",
    "    \n",
    "    Args:\n",
    "        env: OpenAI gym environment.\n",
    "        behavior_policy: A policy used to collect the data.\n",
    "        target_policy: A policy which value function we want to estimate.\n",
    "        num_episodes: Number of episodes to sample.\n",
    "        discount_factor: Gamma discount factor.\n",
    "        sampling_function: Function that generates data from one episode.\n",
    "    \n",
    "    Returns:\n",
    "        A dictionary that maps from state -> value.\n",
    "        The state is a tuple and the value is a float.\n",
    "    \"\"\"\n",
    "\n",
    "    # Keeps track of current V and count of returns for each state\n",
    "    # to calculate an update.\n",
    "    V = defaultdict(float)\n",
    "    returns_count = defaultdict(float)\n",
    "    \n",
    "    # YOUR CODE HERE\n",
    "    raise NotImplementedError\n",
    "    return V"
   ]
  },
  {
   "cell_type": "code",
   "execution_count": null,
   "metadata": {},
   "outputs": [],
   "source": [
    "V_10k = mc_importance_sampling(env, RandomBlackjackPolicy(), SimpleBlackjackPolicy(), num_episodes=10000)\n",
    "print(V_10k)"
   ]
  },
  {
   "cell_type": "code",
   "execution_count": null,
   "metadata": {},
   "outputs": [],
   "source": [
    "%%time\n",
    "# Let's run your code one time\n",
    "V_10k = mc_importance_sampling(env, RandomBlackjackPolicy(), SimpleBlackjackPolicy(), num_episodes=10000)\n",
    "V_500k = mc_importance_sampling(env, RandomBlackjackPolicy(), SimpleBlackjackPolicy(), num_episodes=500000)"
   ]
  },
  {
   "cell_type": "markdown",
   "metadata": {},
   "source": [
    "Plot the V function. Do the plots look like what you expected?"
   ]
  },
  {
   "cell_type": "code",
   "execution_count": null,
   "metadata": {},
   "outputs": [],
   "source": [
    "# YOUR CODE HERE\n",
    "raise NotImplementedError"
   ]
  },
  {
   "cell_type": "markdown",
   "metadata": {},
   "source": [
    "If you want to test/submit your solution **restart the kernel, run all cells and submit the mc_autograde.py file into codegrade.**"
   ]
  }
 ],
 "metadata": {
  "celltoolbar": "Create Assignment",
  "kernelspec": {
   "display_name": "Python 3",
   "language": "python",
   "name": "python3"
  },
  "language_info": {
   "codemirror_mode": {
    "name": "ipython",
    "version": 3
   },
   "file_extension": ".py",
   "mimetype": "text/x-python",
   "name": "python",
   "nbconvert_exporter": "python",
   "pygments_lexer": "ipython3",
   "version": "3.7.3"
  }
 },
 "nbformat": 4,
 "nbformat_minor": 2
}
